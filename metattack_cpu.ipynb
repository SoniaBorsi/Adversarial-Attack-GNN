{
  "nbformat": 4,
  "nbformat_minor": 0,
  "metadata": {
    "colab": {
      "provenance": [],
      "authorship_tag": "ABX9TyO1vaMENvwSVf+XTHHnq/Vm"
    },
    "kernelspec": {
      "name": "python3",
      "display_name": "Python 3"
    },
    "language_info": {
      "name": "python"
    }
  },
  "cells": [
    {
      "cell_type": "markdown",
      "source": [
        "# Install Libraries"
      ],
      "metadata": {
        "id": "pm7xp-cSpNU3"
      }
    },
    {
      "cell_type": "code",
      "execution_count": null,
      "metadata": {
        "colab": {
          "base_uri": "https://localhost:8080/",
          "height": 1000
        },
        "collapsed": true,
        "id": "ieFvWeGqpC-v",
        "outputId": "2ff263ad-c36a-4d74-8020-99b48986dc00"
      },
      "outputs": [
        {
          "output_type": "stream",
          "name": "stdout",
          "text": [
            "\u001b[33mWARNING: Ignoring invalid distribution ~cipy (/usr/local/lib/python3.11/dist-packages)\u001b[0m\u001b[33m\n",
            "\u001b[0mFound existing installation: numpy 1.23.5\n",
            "Uninstalling numpy-1.23.5:\n",
            "  Successfully uninstalled numpy-1.23.5\n",
            "\u001b[33mWARNING: Ignoring invalid distribution ~cipy (/usr/local/lib/python3.11/dist-packages)\u001b[0m\u001b[33m\n",
            "\u001b[0m\u001b[33mWARNING: Ignoring invalid distribution ~cipy (/usr/local/lib/python3.11/dist-packages)\u001b[0m\u001b[33m\n",
            "\u001b[0mCollecting numpy==1.23.5\n",
            "  Using cached numpy-1.23.5-cp311-cp311-manylinux_2_17_x86_64.manylinux2014_x86_64.whl.metadata (2.3 kB)\n",
            "Using cached numpy-1.23.5-cp311-cp311-manylinux_2_17_x86_64.manylinux2014_x86_64.whl (17.1 MB)\n",
            "\u001b[33mWARNING: Ignoring invalid distribution ~cipy (/usr/local/lib/python3.11/dist-packages)\u001b[0m\u001b[33m\n",
            "\u001b[0mInstalling collected packages: numpy\n",
            "\u001b[31mERROR: pip's dependency resolver does not currently take into account all the packages that are installed. This behaviour is the source of the following dependency conflicts.\n",
            "librosa 0.11.0 requires scipy>=1.6.0, which is not installed.\n",
            "statsmodels 0.14.4 requires scipy!=1.9.2,>=1.8, which is not installed.\n",
            "lightgbm 4.5.0 requires scipy, which is not installed.\n",
            "sklearn-pandas 2.2.0 requires scipy>=1.5.1, which is not installed.\n",
            "arviz 0.21.0 requires scipy>=1.9.0, which is not installed.\n",
            "cvxpy 1.6.5 requires scipy>=1.11.0, which is not installed.\n",
            "scikit-learn 1.6.1 requires scipy>=1.6.0, which is not installed.\n",
            "pymc 5.21.2 requires scipy>=1.4.1, which is not installed.\n",
            "plotnine 0.14.5 requires scipy>=1.8.0, which is not installed.\n",
            "pynndescent 0.5.13 requires scipy>=1.0, which is not installed.\n",
            "hdbscan 0.8.40 requires scipy>=1.0, which is not installed.\n",
            "albumentations 2.0.5 requires scipy>=1.10.0, which is not installed.\n",
            "clarabel 0.10.0 requires scipy, which is not installed.\n",
            "umap-learn 0.5.7 requires scipy>=1.3.1, which is not installed.\n",
            "matplotlib-venn 1.1.2 requires scipy, which is not installed.\n",
            "yellowbrick 1.5 requires scipy>=1.0.0, which is not installed.\n",
            "treelite 4.4.1 requires scipy, which is not installed.\n",
            "xgboost 2.1.4 requires scipy, which is not installed.\n",
            "jaxlib 0.5.1 requires scipy>=1.11.1, which is not installed.\n",
            "datascience 0.17.6 requires scipy, which is not installed.\n",
            "sentence-transformers 3.4.1 requires scipy, which is not installed.\n",
            "shap 0.47.2 requires scipy, which is not installed.\n",
            "osqp 1.0.3 requires scipy>=0.13.2, which is not installed.\n",
            "hyperopt 0.2.7 requires scipy, which is not installed.\n",
            "mizani 0.13.3 requires scipy>=1.8.0, which is not installed.\n",
            "imbalanced-learn 0.13.0 requires scipy<2,>=1.10.1, which is not installed.\n",
            "scs 3.2.7.post2 requires scipy, which is not installed.\n",
            "missingno 0.5.2 requires scipy, which is not installed.\n",
            "mlxtend 0.23.4 requires scipy>=1.2.1, which is not installed.\n",
            "cuml-cu12 25.2.1 requires scipy>=1.8.0, which is not installed.\n",
            "scikit-image 0.25.2 requires scipy>=1.11.4, which is not installed.\n",
            "fastai 2.7.19 requires scipy, which is not installed.\n",
            "pytensor 2.30.3 requires scipy<2,>=1, which is not installed.\n",
            "xarray-einstats 0.8.0 requires scipy>=1.9, which is not installed.\n",
            "jax 0.5.2 requires scipy>=1.11.1, which is not installed.\n",
            "chex 0.1.89 requires numpy>=1.24.1, but you have numpy 1.23.5 which is incompatible.\n",
            "tensorflow 2.18.0 requires numpy<2.1.0,>=1.26.0, but you have numpy 1.23.5 which is incompatible.\n",
            "bigframes 2.1.0 requires numpy>=1.24.0, but you have numpy 1.23.5 which is incompatible.\n",
            "xarray 2025.1.2 requires numpy>=1.24, but you have numpy 1.23.5 which is incompatible.\n",
            "pymc 5.21.2 requires numpy>=1.25.0, but you have numpy 1.23.5 which is incompatible.\n",
            "albumentations 2.0.5 requires numpy>=1.24.4, but you have numpy 1.23.5 which is incompatible.\n",
            "blosc2 3.3.1 requires numpy>=1.26, but you have numpy 1.23.5 which is incompatible.\n",
            "albucore 0.0.23 requires numpy>=1.24.4, but you have numpy 1.23.5 which is incompatible.\n",
            "jaxlib 0.5.1 requires numpy>=1.25, but you have numpy 1.23.5 which is incompatible.\n",
            "thinc 8.3.6 requires numpy<3.0.0,>=2.0.0, but you have numpy 1.23.5 which is incompatible.\n",
            "imbalanced-learn 0.13.0 requires numpy<3,>=1.24.3, but you have numpy 1.23.5 which is incompatible.\n",
            "scikit-image 0.25.2 requires numpy>=1.24, but you have numpy 1.23.5 which is incompatible.\n",
            "jax 0.5.2 requires numpy>=1.25, but you have numpy 1.23.5 which is incompatible.\n",
            "treescope 0.1.9 requires numpy>=1.25.2, but you have numpy 1.23.5 which is incompatible.\u001b[0m\u001b[31m\n",
            "\u001b[0mSuccessfully installed numpy-1.23.5\n"
          ]
        },
        {
          "output_type": "display_data",
          "data": {
            "application/vnd.colab-display-data+json": {
              "pip_warning": {
                "packages": [
                  "numpy"
                ]
              },
              "id": "e407b7a5050f4362ba9de8d8a94383e9"
            }
          },
          "metadata": {}
        }
      ],
      "source": [
        "# !pip uninstall -y torch torch-geometric torch-scatter torch-sparse torch-cluster torch-spline-conv deeprobust\n",
        "'''\n",
        "If import block fails with a numpy size diff, uncomment and run the two lines below. rerun all blocks after.\n",
        "'''\n",
        "!pip uninstall -y numpy\n",
        "!pip install numpy==1.23.5"
      ]
    },
    {
      "cell_type": "code",
      "source": [
        "!pip install numpy==1.23.5 torch==2.0.0 torchvision==0.15.1 torchaudio==2.0.1\n",
        "!pip install torch-geometric torch-scatter torch-sparse torch-cluster torch-spline-conv -f https://data.pyg.org/whl/torch-2.0.0+cpu.html\n",
        "!pip install deeprobust\n",
        "!pip install networkx matplotlib\n",
        "!pip install ogb"
      ],
      "metadata": {
        "colab": {
          "base_uri": "https://localhost:8080/"
        },
        "collapsed": true,
        "id": "TCMU_dwppLBP",
        "outputId": "e1470e2c-74b6-44ee-a5e8-4da7f231c6b5"
      },
      "execution_count": null,
      "outputs": [
        {
          "output_type": "stream",
          "name": "stdout",
          "text": [
            "\u001b[33mWARNING: Ignoring invalid distribution ~cipy (/usr/local/lib/python3.11/dist-packages)\u001b[0m\u001b[33m\n",
            "\u001b[0m\u001b[33mWARNING: Ignoring invalid distribution ~cipy (/usr/local/lib/python3.11/dist-packages)\u001b[0m\u001b[33m\n",
            "\u001b[0mRequirement already satisfied: numpy==1.23.5 in /usr/local/lib/python3.11/dist-packages (1.23.5)\n",
            "Requirement already satisfied: torch==2.0.0 in /usr/local/lib/python3.11/dist-packages (2.0.0)\n",
            "Requirement already satisfied: torchvision==0.15.1 in /usr/local/lib/python3.11/dist-packages (0.15.1)\n",
            "Requirement already satisfied: torchaudio==2.0.1 in /usr/local/lib/python3.11/dist-packages (2.0.1)\n",
            "Requirement already satisfied: filelock in /usr/local/lib/python3.11/dist-packages (from torch==2.0.0) (3.18.0)\n",
            "Requirement already satisfied: typing-extensions in /usr/local/lib/python3.11/dist-packages (from torch==2.0.0) (4.13.2)\n",
            "Requirement already satisfied: sympy in /usr/local/lib/python3.11/dist-packages (from torch==2.0.0) (1.13.1)\n",
            "Requirement already satisfied: networkx in /usr/local/lib/python3.11/dist-packages (from torch==2.0.0) (3.4.2)\n",
            "Requirement already satisfied: jinja2 in /usr/local/lib/python3.11/dist-packages (from torch==2.0.0) (3.1.6)\n",
            "Requirement already satisfied: nvidia-cuda-nvrtc-cu11==11.7.99 in /usr/local/lib/python3.11/dist-packages (from torch==2.0.0) (11.7.99)\n",
            "Requirement already satisfied: nvidia-cuda-runtime-cu11==11.7.99 in /usr/local/lib/python3.11/dist-packages (from torch==2.0.0) (11.7.99)\n",
            "Requirement already satisfied: nvidia-cuda-cupti-cu11==11.7.101 in /usr/local/lib/python3.11/dist-packages (from torch==2.0.0) (11.7.101)\n",
            "Requirement already satisfied: nvidia-cudnn-cu11==8.5.0.96 in /usr/local/lib/python3.11/dist-packages (from torch==2.0.0) (8.5.0.96)\n",
            "Requirement already satisfied: nvidia-cublas-cu11==11.10.3.66 in /usr/local/lib/python3.11/dist-packages (from torch==2.0.0) (11.10.3.66)\n",
            "Requirement already satisfied: nvidia-cufft-cu11==10.9.0.58 in /usr/local/lib/python3.11/dist-packages (from torch==2.0.0) (10.9.0.58)\n",
            "Requirement already satisfied: nvidia-curand-cu11==10.2.10.91 in /usr/local/lib/python3.11/dist-packages (from torch==2.0.0) (10.2.10.91)\n",
            "Requirement already satisfied: nvidia-cusolver-cu11==11.4.0.1 in /usr/local/lib/python3.11/dist-packages (from torch==2.0.0) (11.4.0.1)\n",
            "Requirement already satisfied: nvidia-cusparse-cu11==11.7.4.91 in /usr/local/lib/python3.11/dist-packages (from torch==2.0.0) (11.7.4.91)\n",
            "Requirement already satisfied: nvidia-nccl-cu11==2.14.3 in /usr/local/lib/python3.11/dist-packages (from torch==2.0.0) (2.14.3)\n",
            "Requirement already satisfied: nvidia-nvtx-cu11==11.7.91 in /usr/local/lib/python3.11/dist-packages (from torch==2.0.0) (11.7.91)\n",
            "Requirement already satisfied: triton==2.0.0 in /usr/local/lib/python3.11/dist-packages (from torch==2.0.0) (2.0.0)\n",
            "Requirement already satisfied: requests in /usr/local/lib/python3.11/dist-packages (from torchvision==0.15.1) (2.32.3)\n",
            "Requirement already satisfied: pillow!=8.3.*,>=5.3.0 in /usr/local/lib/python3.11/dist-packages (from torchvision==0.15.1) (11.1.0)\n",
            "Requirement already satisfied: setuptools in /usr/local/lib/python3.11/dist-packages (from nvidia-cublas-cu11==11.10.3.66->torch==2.0.0) (75.2.0)\n",
            "Requirement already satisfied: wheel in /usr/local/lib/python3.11/dist-packages (from nvidia-cublas-cu11==11.10.3.66->torch==2.0.0) (0.45.1)\n",
            "Requirement already satisfied: cmake in /usr/local/lib/python3.11/dist-packages (from triton==2.0.0->torch==2.0.0) (3.31.6)\n",
            "Requirement already satisfied: lit in /usr/local/lib/python3.11/dist-packages (from triton==2.0.0->torch==2.0.0) (18.1.8)\n",
            "Requirement already satisfied: MarkupSafe>=2.0 in /usr/local/lib/python3.11/dist-packages (from jinja2->torch==2.0.0) (3.0.2)\n",
            "Requirement already satisfied: charset-normalizer<4,>=2 in /usr/local/lib/python3.11/dist-packages (from requests->torchvision==0.15.1) (3.4.1)\n",
            "Requirement already satisfied: idna<4,>=2.5 in /usr/local/lib/python3.11/dist-packages (from requests->torchvision==0.15.1) (3.10)\n",
            "Requirement already satisfied: urllib3<3,>=1.21.1 in /usr/local/lib/python3.11/dist-packages (from requests->torchvision==0.15.1) (2.3.0)\n",
            "Requirement already satisfied: certifi>=2017.4.17 in /usr/local/lib/python3.11/dist-packages (from requests->torchvision==0.15.1) (2025.1.31)\n",
            "Requirement already satisfied: mpmath<1.4,>=1.1.0 in /usr/local/lib/python3.11/dist-packages (from sympy->torch==2.0.0) (1.3.0)\n",
            "\u001b[33mWARNING: Ignoring invalid distribution ~cipy (/usr/local/lib/python3.11/dist-packages)\u001b[0m\u001b[33m\n",
            "\u001b[0m\u001b[33mWARNING: Ignoring invalid distribution ~cipy (/usr/local/lib/python3.11/dist-packages)\u001b[0m\u001b[33m\n",
            "\u001b[0m\u001b[33mWARNING: Ignoring invalid distribution ~cipy (/usr/local/lib/python3.11/dist-packages)\u001b[0m\u001b[33m\n",
            "\u001b[0mLooking in links: https://data.pyg.org/whl/torch-2.0.0+cpu.html\n",
            "Requirement already satisfied: torch-geometric in /usr/local/lib/python3.11/dist-packages (2.6.1)\n",
            "Requirement already satisfied: torch-scatter in /usr/local/lib/python3.11/dist-packages (2.1.2+pt20cpu)\n",
            "Requirement already satisfied: torch-sparse in /usr/local/lib/python3.11/dist-packages (0.6.18+pt20cpu)\n",
            "Requirement already satisfied: torch-cluster in /usr/local/lib/python3.11/dist-packages (1.6.3+pt20cpu)\n",
            "Requirement already satisfied: torch-spline-conv in /usr/local/lib/python3.11/dist-packages (1.2.2+pt20cpu)\n",
            "Requirement already satisfied: aiohttp in /usr/local/lib/python3.11/dist-packages (from torch-geometric) (3.11.15)\n",
            "Requirement already satisfied: fsspec in /usr/local/lib/python3.11/dist-packages (from torch-geometric) (2025.3.2)\n",
            "Requirement already satisfied: jinja2 in /usr/local/lib/python3.11/dist-packages (from torch-geometric) (3.1.6)\n",
            "Requirement already satisfied: numpy in /usr/local/lib/python3.11/dist-packages (from torch-geometric) (1.23.5)\n",
            "Requirement already satisfied: psutil>=5.8.0 in /usr/local/lib/python3.11/dist-packages (from torch-geometric) (5.9.5)\n",
            "Requirement already satisfied: pyparsing in /usr/local/lib/python3.11/dist-packages (from torch-geometric) (3.2.3)\n",
            "Requirement already satisfied: requests in /usr/local/lib/python3.11/dist-packages (from torch-geometric) (2.32.3)\n",
            "Requirement already satisfied: tqdm in /usr/local/lib/python3.11/dist-packages (from torch-geometric) (4.67.1)\n",
            "Collecting scipy (from torch-sparse)\n",
            "  Using cached scipy-1.15.2-cp311-cp311-manylinux_2_17_x86_64.manylinux2014_x86_64.whl.metadata (61 kB)\n",
            "Requirement already satisfied: aiohappyeyeballs>=2.3.0 in /usr/local/lib/python3.11/dist-packages (from aiohttp->torch-geometric) (2.6.1)\n",
            "Requirement already satisfied: aiosignal>=1.1.2 in /usr/local/lib/python3.11/dist-packages (from aiohttp->torch-geometric) (1.3.2)\n",
            "Requirement already satisfied: attrs>=17.3.0 in /usr/local/lib/python3.11/dist-packages (from aiohttp->torch-geometric) (25.3.0)\n",
            "Requirement already satisfied: frozenlist>=1.1.1 in /usr/local/lib/python3.11/dist-packages (from aiohttp->torch-geometric) (1.6.0)\n",
            "Requirement already satisfied: multidict<7.0,>=4.5 in /usr/local/lib/python3.11/dist-packages (from aiohttp->torch-geometric) (6.4.3)\n",
            "Requirement already satisfied: propcache>=0.2.0 in /usr/local/lib/python3.11/dist-packages (from aiohttp->torch-geometric) (0.3.1)\n",
            "Requirement already satisfied: yarl<2.0,>=1.17.0 in /usr/local/lib/python3.11/dist-packages (from aiohttp->torch-geometric) (1.20.0)\n",
            "Requirement already satisfied: MarkupSafe>=2.0 in /usr/local/lib/python3.11/dist-packages (from jinja2->torch-geometric) (3.0.2)\n",
            "Requirement already satisfied: charset-normalizer<4,>=2 in /usr/local/lib/python3.11/dist-packages (from requests->torch-geometric) (3.4.1)\n",
            "Requirement already satisfied: idna<4,>=2.5 in /usr/local/lib/python3.11/dist-packages (from requests->torch-geometric) (3.10)\n",
            "Requirement already satisfied: urllib3<3,>=1.21.1 in /usr/local/lib/python3.11/dist-packages (from requests->torch-geometric) (2.3.0)\n",
            "Requirement already satisfied: certifi>=2017.4.17 in /usr/local/lib/python3.11/dist-packages (from requests->torch-geometric) (2025.1.31)\n",
            "Using cached scipy-1.15.2-cp311-cp311-manylinux_2_17_x86_64.manylinux2014_x86_64.whl (37.6 MB)\n",
            "\u001b[33mWARNING: Ignoring invalid distribution ~cipy (/usr/local/lib/python3.11/dist-packages)\u001b[0m\u001b[33m\n",
            "\u001b[0mInstalling collected packages: scipy\n",
            "\u001b[33mWARNING: Ignoring invalid distribution ~cipy (/usr/local/lib/python3.11/dist-packages)\u001b[0m\u001b[33m\n",
            "\u001b[0m\u001b[31mERROR: pip's dependency resolver does not currently take into account all the packages that are installed. This behaviour is the source of the following dependency conflicts.\n",
            "pymc 5.21.2 requires numpy>=1.25.0, but you have numpy 1.23.5 which is incompatible.\n",
            "albumentations 2.0.5 requires numpy>=1.24.4, but you have numpy 1.23.5 which is incompatible.\n",
            "jaxlib 0.5.1 requires numpy>=1.25, but you have numpy 1.23.5 which is incompatible.\n",
            "imbalanced-learn 0.13.0 requires numpy<3,>=1.24.3, but you have numpy 1.23.5 which is incompatible.\n",
            "scikit-image 0.25.2 requires numpy>=1.24, but you have numpy 1.23.5 which is incompatible.\n",
            "jax 0.5.2 requires numpy>=1.25, but you have numpy 1.23.5 which is incompatible.\u001b[0m\u001b[31m\n",
            "\u001b[0mSuccessfully installed scipy\n",
            "\u001b[33mWARNING: Ignoring invalid distribution ~cipy (/usr/local/lib/python3.11/dist-packages)\u001b[0m\u001b[33m\n",
            "\u001b[0m\u001b[33mWARNING: Ignoring invalid distribution ~cipy (/usr/local/lib/python3.11/dist-packages)\u001b[0m\u001b[33m\n",
            "\u001b[0mCollecting deeprobust\n",
            "  Using cached deeprobust-0.2.11-py3-none-any.whl.metadata (17 kB)\n",
            "Requirement already satisfied: matplotlib>=3.1.1 in /usr/local/lib/python3.11/dist-packages (from deeprobust) (3.10.0)\n",
            "Requirement already satisfied: numpy>=1.17.1 in /usr/local/lib/python3.11/dist-packages (from deeprobust) (1.23.5)\n",
            "Requirement already satisfied: torch>=1.2.0 in /usr/local/lib/python3.11/dist-packages (from deeprobust) (2.0.0)\n",
            "Collecting scipy>=1.3.1 (from deeprobust)\n",
            "  Using cached scipy-1.15.2-cp311-cp311-manylinux_2_17_x86_64.manylinux2014_x86_64.whl.metadata (61 kB)\n",
            "Requirement already satisfied: torchvision>=0.4.0 in /usr/local/lib/python3.11/dist-packages (from deeprobust) (0.15.1)\n",
            "Requirement already satisfied: texttable>=1.6.2 in /usr/local/lib/python3.11/dist-packages (from deeprobust) (1.7.0)\n",
            "Requirement already satisfied: networkx>=2.4 in /usr/local/lib/python3.11/dist-packages (from deeprobust) (3.4.2)\n",
            "Requirement already satisfied: numba>=0.48.0 in /usr/local/lib/python3.11/dist-packages (from deeprobust) (0.60.0)\n",
            "Requirement already satisfied: Pillow>=7.0.0 in /usr/local/lib/python3.11/dist-packages (from deeprobust) (11.1.0)\n",
            "Requirement already satisfied: scikit-learn>=0.22.1 in /usr/local/lib/python3.11/dist-packages (from deeprobust) (1.6.1)\n",
            "Requirement already satisfied: scikit-image>=0.0 in /usr/local/lib/python3.11/dist-packages (from deeprobust) (0.25.2)\n",
            "Requirement already satisfied: tensorboardX>=2.0 in /usr/local/lib/python3.11/dist-packages (from deeprobust) (2.6.2.2)\n",
            "Requirement already satisfied: tqdm>=3.0 in /usr/local/lib/python3.11/dist-packages (from deeprobust) (4.67.1)\n",
            "Collecting gensim>=4.3.0 (from deeprobust)\n",
            "  Using cached gensim-4.3.3-cp311-cp311-manylinux_2_17_x86_64.manylinux2014_x86_64.whl.metadata (8.1 kB)\n",
            "Collecting scipy>=1.3.1 (from deeprobust)\n",
            "  Using cached scipy-1.13.1-cp311-cp311-manylinux_2_17_x86_64.manylinux2014_x86_64.whl.metadata (60 kB)\n",
            "Requirement already satisfied: smart-open>=1.8.1 in /usr/local/lib/python3.11/dist-packages (from gensim>=4.3.0->deeprobust) (7.1.0)\n",
            "Requirement already satisfied: contourpy>=1.0.1 in /usr/local/lib/python3.11/dist-packages (from matplotlib>=3.1.1->deeprobust) (1.3.2)\n",
            "Requirement already satisfied: cycler>=0.10 in /usr/local/lib/python3.11/dist-packages (from matplotlib>=3.1.1->deeprobust) (0.12.1)\n",
            "Requirement already satisfied: fonttools>=4.22.0 in /usr/local/lib/python3.11/dist-packages (from matplotlib>=3.1.1->deeprobust) (4.57.0)\n",
            "Requirement already satisfied: kiwisolver>=1.3.1 in /usr/local/lib/python3.11/dist-packages (from matplotlib>=3.1.1->deeprobust) (1.4.8)\n",
            "Requirement already satisfied: packaging>=20.0 in /usr/local/lib/python3.11/dist-packages (from matplotlib>=3.1.1->deeprobust) (24.2)\n",
            "Requirement already satisfied: pyparsing>=2.3.1 in /usr/local/lib/python3.11/dist-packages (from matplotlib>=3.1.1->deeprobust) (3.2.3)\n",
            "Requirement already satisfied: python-dateutil>=2.7 in /usr/local/lib/python3.11/dist-packages (from matplotlib>=3.1.1->deeprobust) (2.8.2)\n",
            "Requirement already satisfied: llvmlite<0.44,>=0.43.0dev0 in /usr/local/lib/python3.11/dist-packages (from numba>=0.48.0->deeprobust) (0.43.0)\n",
            "Collecting numpy>=1.17.1 (from deeprobust)\n",
            "  Using cached numpy-1.26.4-cp311-cp311-manylinux_2_17_x86_64.manylinux2014_x86_64.whl.metadata (61 kB)\n",
            "Requirement already satisfied: imageio!=2.35.0,>=2.33 in /usr/local/lib/python3.11/dist-packages (from scikit-image>=0.0->deeprobust) (2.37.0)\n",
            "Requirement already satisfied: tifffile>=2022.8.12 in /usr/local/lib/python3.11/dist-packages (from scikit-image>=0.0->deeprobust) (2025.3.30)\n",
            "Requirement already satisfied: lazy-loader>=0.4 in /usr/local/lib/python3.11/dist-packages (from scikit-image>=0.0->deeprobust) (0.4)\n",
            "Requirement already satisfied: joblib>=1.2.0 in /usr/local/lib/python3.11/dist-packages (from scikit-learn>=0.22.1->deeprobust) (1.4.2)\n",
            "Requirement already satisfied: threadpoolctl>=3.1.0 in /usr/local/lib/python3.11/dist-packages (from scikit-learn>=0.22.1->deeprobust) (3.6.0)\n",
            "Requirement already satisfied: protobuf>=3.20 in /usr/local/lib/python3.11/dist-packages (from tensorboardX>=2.0->deeprobust) (5.29.4)\n",
            "Requirement already satisfied: filelock in /usr/local/lib/python3.11/dist-packages (from torch>=1.2.0->deeprobust) (3.18.0)\n",
            "Requirement already satisfied: typing-extensions in /usr/local/lib/python3.11/dist-packages (from torch>=1.2.0->deeprobust) (4.13.2)\n",
            "Requirement already satisfied: sympy in /usr/local/lib/python3.11/dist-packages (from torch>=1.2.0->deeprobust) (1.13.1)\n",
            "Requirement already satisfied: jinja2 in /usr/local/lib/python3.11/dist-packages (from torch>=1.2.0->deeprobust) (3.1.6)\n",
            "Requirement already satisfied: nvidia-cuda-nvrtc-cu11==11.7.99 in /usr/local/lib/python3.11/dist-packages (from torch>=1.2.0->deeprobust) (11.7.99)\n",
            "Requirement already satisfied: nvidia-cuda-runtime-cu11==11.7.99 in /usr/local/lib/python3.11/dist-packages (from torch>=1.2.0->deeprobust) (11.7.99)\n",
            "Requirement already satisfied: nvidia-cuda-cupti-cu11==11.7.101 in /usr/local/lib/python3.11/dist-packages (from torch>=1.2.0->deeprobust) (11.7.101)\n",
            "Requirement already satisfied: nvidia-cudnn-cu11==8.5.0.96 in /usr/local/lib/python3.11/dist-packages (from torch>=1.2.0->deeprobust) (8.5.0.96)\n",
            "Requirement already satisfied: nvidia-cublas-cu11==11.10.3.66 in /usr/local/lib/python3.11/dist-packages (from torch>=1.2.0->deeprobust) (11.10.3.66)\n",
            "Requirement already satisfied: nvidia-cufft-cu11==10.9.0.58 in /usr/local/lib/python3.11/dist-packages (from torch>=1.2.0->deeprobust) (10.9.0.58)\n",
            "Requirement already satisfied: nvidia-curand-cu11==10.2.10.91 in /usr/local/lib/python3.11/dist-packages (from torch>=1.2.0->deeprobust) (10.2.10.91)\n",
            "Requirement already satisfied: nvidia-cusolver-cu11==11.4.0.1 in /usr/local/lib/python3.11/dist-packages (from torch>=1.2.0->deeprobust) (11.4.0.1)\n",
            "Requirement already satisfied: nvidia-cusparse-cu11==11.7.4.91 in /usr/local/lib/python3.11/dist-packages (from torch>=1.2.0->deeprobust) (11.7.4.91)\n",
            "Requirement already satisfied: nvidia-nccl-cu11==2.14.3 in /usr/local/lib/python3.11/dist-packages (from torch>=1.2.0->deeprobust) (2.14.3)\n",
            "Requirement already satisfied: nvidia-nvtx-cu11==11.7.91 in /usr/local/lib/python3.11/dist-packages (from torch>=1.2.0->deeprobust) (11.7.91)\n",
            "Requirement already satisfied: triton==2.0.0 in /usr/local/lib/python3.11/dist-packages (from torch>=1.2.0->deeprobust) (2.0.0)\n",
            "Requirement already satisfied: setuptools in /usr/local/lib/python3.11/dist-packages (from nvidia-cublas-cu11==11.10.3.66->torch>=1.2.0->deeprobust) (75.2.0)\n",
            "Requirement already satisfied: wheel in /usr/local/lib/python3.11/dist-packages (from nvidia-cublas-cu11==11.10.3.66->torch>=1.2.0->deeprobust) (0.45.1)\n",
            "Requirement already satisfied: cmake in /usr/local/lib/python3.11/dist-packages (from triton==2.0.0->torch>=1.2.0->deeprobust) (3.31.6)\n",
            "Requirement already satisfied: lit in /usr/local/lib/python3.11/dist-packages (from triton==2.0.0->torch>=1.2.0->deeprobust) (18.1.8)\n",
            "Requirement already satisfied: requests in /usr/local/lib/python3.11/dist-packages (from torchvision>=0.4.0->deeprobust) (2.32.3)\n",
            "Requirement already satisfied: six>=1.5 in /usr/local/lib/python3.11/dist-packages (from python-dateutil>=2.7->matplotlib>=3.1.1->deeprobust) (1.17.0)\n",
            "Requirement already satisfied: wrapt in /usr/local/lib/python3.11/dist-packages (from smart-open>=1.8.1->gensim>=4.3.0->deeprobust) (1.17.2)\n",
            "Requirement already satisfied: MarkupSafe>=2.0 in /usr/local/lib/python3.11/dist-packages (from jinja2->torch>=1.2.0->deeprobust) (3.0.2)\n",
            "Requirement already satisfied: charset-normalizer<4,>=2 in /usr/local/lib/python3.11/dist-packages (from requests->torchvision>=0.4.0->deeprobust) (3.4.1)\n",
            "Requirement already satisfied: idna<4,>=2.5 in /usr/local/lib/python3.11/dist-packages (from requests->torchvision>=0.4.0->deeprobust) (3.10)\n",
            "Requirement already satisfied: urllib3<3,>=1.21.1 in /usr/local/lib/python3.11/dist-packages (from requests->torchvision>=0.4.0->deeprobust) (2.3.0)\n",
            "Requirement already satisfied: certifi>=2017.4.17 in /usr/local/lib/python3.11/dist-packages (from requests->torchvision>=0.4.0->deeprobust) (2025.1.31)\n",
            "Requirement already satisfied: mpmath<1.4,>=1.1.0 in /usr/local/lib/python3.11/dist-packages (from sympy->torch>=1.2.0->deeprobust) (1.3.0)\n",
            "Using cached deeprobust-0.2.11-py3-none-any.whl (219 kB)\n",
            "Using cached gensim-4.3.3-cp311-cp311-manylinux_2_17_x86_64.manylinux2014_x86_64.whl (26.7 MB)\n",
            "Using cached numpy-1.26.4-cp311-cp311-manylinux_2_17_x86_64.manylinux2014_x86_64.whl (18.3 MB)\n",
            "Using cached scipy-1.13.1-cp311-cp311-manylinux_2_17_x86_64.manylinux2014_x86_64.whl (38.6 MB)\n",
            "\u001b[33mWARNING: Ignoring invalid distribution ~cipy (/usr/local/lib/python3.11/dist-packages)\u001b[0m\u001b[33m\n",
            "\u001b[0mInstalling collected packages: numpy, scipy, gensim, deeprobust\n",
            "  Attempting uninstall: numpy\n",
            "    Found existing installation: numpy 1.23.5\n",
            "    Uninstalling numpy-1.23.5:\n",
            "      Successfully uninstalled numpy-1.23.5\n",
            "\u001b[31mERROR: pip's dependency resolver does not currently take into account all the packages that are installed. This behaviour is the source of the following dependency conflicts.\n",
            "thinc 8.3.6 requires numpy<3.0.0,>=2.0.0, but you have numpy 1.26.4 which is incompatible.\u001b[0m\u001b[31m\n",
            "\u001b[0mSuccessfully installed deeprobust-0.2.11 gensim-4.3.3 numpy-1.26.4 scipy-1.13.1\n",
            "Requirement already satisfied: networkx in /usr/local/lib/python3.11/dist-packages (3.4.2)\n",
            "Requirement already satisfied: matplotlib in /usr/local/lib/python3.11/dist-packages (3.10.0)\n",
            "Requirement already satisfied: contourpy>=1.0.1 in /usr/local/lib/python3.11/dist-packages (from matplotlib) (1.3.2)\n",
            "Requirement already satisfied: cycler>=0.10 in /usr/local/lib/python3.11/dist-packages (from matplotlib) (0.12.1)\n",
            "Requirement already satisfied: fonttools>=4.22.0 in /usr/local/lib/python3.11/dist-packages (from matplotlib) (4.57.0)\n",
            "Requirement already satisfied: kiwisolver>=1.3.1 in /usr/local/lib/python3.11/dist-packages (from matplotlib) (1.4.8)\n",
            "Requirement already satisfied: numpy>=1.23 in /usr/local/lib/python3.11/dist-packages (from matplotlib) (1.26.4)\n",
            "Requirement already satisfied: packaging>=20.0 in /usr/local/lib/python3.11/dist-packages (from matplotlib) (24.2)\n",
            "Requirement already satisfied: pillow>=8 in /usr/local/lib/python3.11/dist-packages (from matplotlib) (11.1.0)\n",
            "Requirement already satisfied: pyparsing>=2.3.1 in /usr/local/lib/python3.11/dist-packages (from matplotlib) (3.2.3)\n",
            "Requirement already satisfied: python-dateutil>=2.7 in /usr/local/lib/python3.11/dist-packages (from matplotlib) (2.8.2)\n",
            "Requirement already satisfied: six>=1.5 in /usr/local/lib/python3.11/dist-packages (from python-dateutil>=2.7->matplotlib) (1.17.0)\n",
            "Collecting ogb\n",
            "  Using cached ogb-1.3.6-py3-none-any.whl.metadata (6.2 kB)\n",
            "Requirement already satisfied: torch>=1.6.0 in /usr/local/lib/python3.11/dist-packages (from ogb) (2.0.0)\n",
            "Requirement already satisfied: numpy>=1.16.0 in /usr/local/lib/python3.11/dist-packages (from ogb) (1.26.4)\n",
            "Requirement already satisfied: tqdm>=4.29.0 in /usr/local/lib/python3.11/dist-packages (from ogb) (4.67.1)\n",
            "Requirement already satisfied: scikit-learn>=0.20.0 in /usr/local/lib/python3.11/dist-packages (from ogb) (1.6.1)\n",
            "Requirement already satisfied: pandas>=0.24.0 in /usr/local/lib/python3.11/dist-packages (from ogb) (2.2.2)\n",
            "Requirement already satisfied: six>=1.12.0 in /usr/local/lib/python3.11/dist-packages (from ogb) (1.17.0)\n",
            "Requirement already satisfied: urllib3>=1.24.0 in /usr/local/lib/python3.11/dist-packages (from ogb) (2.3.0)\n",
            "Collecting outdated>=0.2.0 (from ogb)\n",
            "  Using cached outdated-0.2.2-py2.py3-none-any.whl.metadata (4.7 kB)\n",
            "Requirement already satisfied: setuptools>=44 in /usr/local/lib/python3.11/dist-packages (from outdated>=0.2.0->ogb) (75.2.0)\n",
            "Collecting littleutils (from outdated>=0.2.0->ogb)\n",
            "  Using cached littleutils-0.2.4-py3-none-any.whl.metadata (679 bytes)\n",
            "Requirement already satisfied: requests in /usr/local/lib/python3.11/dist-packages (from outdated>=0.2.0->ogb) (2.32.3)\n",
            "Requirement already satisfied: python-dateutil>=2.8.2 in /usr/local/lib/python3.11/dist-packages (from pandas>=0.24.0->ogb) (2.8.2)\n",
            "Requirement already satisfied: pytz>=2020.1 in /usr/local/lib/python3.11/dist-packages (from pandas>=0.24.0->ogb) (2025.2)\n",
            "Requirement already satisfied: tzdata>=2022.7 in /usr/local/lib/python3.11/dist-packages (from pandas>=0.24.0->ogb) (2025.2)\n",
            "Requirement already satisfied: scipy>=1.6.0 in /usr/local/lib/python3.11/dist-packages (from scikit-learn>=0.20.0->ogb) (1.13.1)\n",
            "Requirement already satisfied: joblib>=1.2.0 in /usr/local/lib/python3.11/dist-packages (from scikit-learn>=0.20.0->ogb) (1.4.2)\n",
            "Requirement already satisfied: threadpoolctl>=3.1.0 in /usr/local/lib/python3.11/dist-packages (from scikit-learn>=0.20.0->ogb) (3.6.0)\n",
            "Requirement already satisfied: filelock in /usr/local/lib/python3.11/dist-packages (from torch>=1.6.0->ogb) (3.18.0)\n",
            "Requirement already satisfied: typing-extensions in /usr/local/lib/python3.11/dist-packages (from torch>=1.6.0->ogb) (4.13.2)\n",
            "Requirement already satisfied: sympy in /usr/local/lib/python3.11/dist-packages (from torch>=1.6.0->ogb) (1.13.1)\n",
            "Requirement already satisfied: networkx in /usr/local/lib/python3.11/dist-packages (from torch>=1.6.0->ogb) (3.4.2)\n",
            "Requirement already satisfied: jinja2 in /usr/local/lib/python3.11/dist-packages (from torch>=1.6.0->ogb) (3.1.6)\n",
            "Requirement already satisfied: nvidia-cuda-nvrtc-cu11==11.7.99 in /usr/local/lib/python3.11/dist-packages (from torch>=1.6.0->ogb) (11.7.99)\n",
            "Requirement already satisfied: nvidia-cuda-runtime-cu11==11.7.99 in /usr/local/lib/python3.11/dist-packages (from torch>=1.6.0->ogb) (11.7.99)\n",
            "Requirement already satisfied: nvidia-cuda-cupti-cu11==11.7.101 in /usr/local/lib/python3.11/dist-packages (from torch>=1.6.0->ogb) (11.7.101)\n",
            "Requirement already satisfied: nvidia-cudnn-cu11==8.5.0.96 in /usr/local/lib/python3.11/dist-packages (from torch>=1.6.0->ogb) (8.5.0.96)\n",
            "Requirement already satisfied: nvidia-cublas-cu11==11.10.3.66 in /usr/local/lib/python3.11/dist-packages (from torch>=1.6.0->ogb) (11.10.3.66)\n",
            "Requirement already satisfied: nvidia-cufft-cu11==10.9.0.58 in /usr/local/lib/python3.11/dist-packages (from torch>=1.6.0->ogb) (10.9.0.58)\n",
            "Requirement already satisfied: nvidia-curand-cu11==10.2.10.91 in /usr/local/lib/python3.11/dist-packages (from torch>=1.6.0->ogb) (10.2.10.91)\n",
            "Requirement already satisfied: nvidia-cusolver-cu11==11.4.0.1 in /usr/local/lib/python3.11/dist-packages (from torch>=1.6.0->ogb) (11.4.0.1)\n",
            "Requirement already satisfied: nvidia-cusparse-cu11==11.7.4.91 in /usr/local/lib/python3.11/dist-packages (from torch>=1.6.0->ogb) (11.7.4.91)\n",
            "Requirement already satisfied: nvidia-nccl-cu11==2.14.3 in /usr/local/lib/python3.11/dist-packages (from torch>=1.6.0->ogb) (2.14.3)\n",
            "Requirement already satisfied: nvidia-nvtx-cu11==11.7.91 in /usr/local/lib/python3.11/dist-packages (from torch>=1.6.0->ogb) (11.7.91)\n",
            "Requirement already satisfied: triton==2.0.0 in /usr/local/lib/python3.11/dist-packages (from torch>=1.6.0->ogb) (2.0.0)\n",
            "Requirement already satisfied: wheel in /usr/local/lib/python3.11/dist-packages (from nvidia-cublas-cu11==11.10.3.66->torch>=1.6.0->ogb) (0.45.1)\n",
            "Requirement already satisfied: cmake in /usr/local/lib/python3.11/dist-packages (from triton==2.0.0->torch>=1.6.0->ogb) (3.31.6)\n",
            "Requirement already satisfied: lit in /usr/local/lib/python3.11/dist-packages (from triton==2.0.0->torch>=1.6.0->ogb) (18.1.8)\n",
            "Requirement already satisfied: MarkupSafe>=2.0 in /usr/local/lib/python3.11/dist-packages (from jinja2->torch>=1.6.0->ogb) (3.0.2)\n",
            "Requirement already satisfied: charset-normalizer<4,>=2 in /usr/local/lib/python3.11/dist-packages (from requests->outdated>=0.2.0->ogb) (3.4.1)\n",
            "Requirement already satisfied: idna<4,>=2.5 in /usr/local/lib/python3.11/dist-packages (from requests->outdated>=0.2.0->ogb) (3.10)\n",
            "Requirement already satisfied: certifi>=2017.4.17 in /usr/local/lib/python3.11/dist-packages (from requests->outdated>=0.2.0->ogb) (2025.1.31)\n",
            "Requirement already satisfied: mpmath<1.4,>=1.1.0 in /usr/local/lib/python3.11/dist-packages (from sympy->torch>=1.6.0->ogb) (1.3.0)\n",
            "Using cached ogb-1.3.6-py3-none-any.whl (78 kB)\n",
            "Using cached outdated-0.2.2-py2.py3-none-any.whl (7.5 kB)\n",
            "Downloading littleutils-0.2.4-py3-none-any.whl (8.1 kB)\n",
            "Installing collected packages: littleutils, outdated, ogb\n",
            "Successfully installed littleutils-0.2.4 ogb-1.3.6 outdated-0.2.2\n"
          ]
        }
      ]
    },
    {
      "cell_type": "code",
      "source": [
        "# Import the required modules\n",
        "import torch\n",
        "import torch_geometric\n",
        "import deeprobust\n",
        "\n",
        "print(\"PyTorch Version:\", torch.__version__)\n",
        "print(\"PyG Installed:\", torch_geometric.__version__)\n",
        "\n",
        "import torch.nn.functional as F\n",
        "import numpy as np\n",
        "\n",
        "print(\"Numpy Installed:\", np.__version__)\n",
        "\n",
        "import networkx as nx\n",
        "import matplotlib.pyplot as plt\n",
        "import scipy.sparse as sparse"
      ],
      "metadata": {
        "colab": {
          "base_uri": "https://localhost:8080/"
        },
        "collapsed": true,
        "id": "7O0SbtqJpPB3",
        "outputId": "5aea9236-e05d-4675-edc7-4d7a7333100f"
      },
      "execution_count": null,
      "outputs": [
        {
          "output_type": "stream",
          "name": "stdout",
          "text": [
            "PyTorch Version: 2.0.0+cu117\n",
            "PyG Installed: 2.6.1\n",
            "Numpy Installed: 1.23.5\n"
          ]
        }
      ]
    },
    {
      "cell_type": "code",
      "source": [
        "from torch_geometric.transforms import NormalizeFeatures\n",
        "from torch_geometric.nn import GCNConv\n",
        "from torch_geometric.utils import to_scipy_sparse_matrix, subgraph\n",
        "from torch_geometric.data import Data\n",
        "from torch_sparse import from_scipy\n",
        "\n",
        "from deeprobust.graph.global_attack import Metattack\n",
        "print(\"Metattack Imported Successfully\")\n",
        "\n",
        "# Planetoid: Cora, Citeseer, PubMed\n",
        "# WebKB: Texas\n",
        "# PolBlogs: polblogs\n",
        "# Flickr: Flickr\n",
        "from torch_geometric.datasets import Planetoid, WebKB, PolBlogs, Flickr\n",
        "# OGB: ogbn-proteins\n",
        "from ogb.nodeproppred import PygNodePropPredDataset"
      ],
      "metadata": {
        "colab": {
          "base_uri": "https://localhost:8080/"
        },
        "collapsed": true,
        "id": "SIWlwEs_phMx",
        "outputId": "11c66fad-66d2-46ed-c966-7ac2e1d97401"
      },
      "execution_count": null,
      "outputs": [
        {
          "output_type": "stream",
          "name": "stdout",
          "text": [
            "Metattack Imported Successfully\n"
          ]
        }
      ]
    },
    {
      "cell_type": "markdown",
      "source": [
        "# Load Datasets\n",
        "Cora, Citeseer, PubMed, Texas, PolBlogs, and Flickr"
      ],
      "metadata": {
        "id": "GtHaD2cxpmgb"
      }
    },
    {
      "cell_type": "code",
      "source": [
        "'''\n",
        "from torch_geometric.utils import subgraph\n",
        "from torch_geometric.data import Data\n",
        "import os\n",
        "\n",
        "def subset_graph(data, num_nodes_subset, save_path):\n",
        "  #Make a subset of a graph if it is too big\n",
        "  perm = torch.randperm(data.num_nodes)[:num_nodes_subset]\n",
        "  perm = perm.sort()[0]\n",
        "\n",
        "  edge_index, _ = subgraph(perm, data.edge_index, relabel_nodes=True)\n",
        "\n",
        "  x = data.x[perm] if data.x is not None else None\n",
        "  y = data.y[perm] if data.y is not None else None\n",
        "\n",
        "  new_data = Data(x=x, edge_index=edge_index, y=y)\n",
        "  torch.save(new_data, save_path)\n",
        "  print(f\"Saved subset graph to {save_path}\")\n",
        "  return new_data\n",
        "'''"
      ],
      "metadata": {
        "colab": {
          "base_uri": "https://localhost:8080/",
          "height": 87
        },
        "collapsed": true,
        "id": "U1wVZrUhY8NY",
        "outputId": "d88953a2-a14d-4164-d7ea-7998230c6fe2"
      },
      "execution_count": null,
      "outputs": [
        {
          "output_type": "execute_result",
          "data": {
            "text/plain": [
              "'\\nfrom torch_geometric.utils import subgraph\\nfrom torch_geometric.data import Data\\nimport os \\n\\ndef subset_graph(data, num_nodes_subset, save_path):\\n  #Make a subset of a graph if it is too big\\n  perm = torch.randperm(data.num_nodes)[:num_nodes_subset]\\n  perm = perm.sort()[0]\\n\\n  edge_index, _ = subgraph(perm, data.edge_index, relabel_nodes=True)\\n\\n  x = data.x[perm] if data.x is not None else None\\n  y = data.y[perm] if data.y is not None else None\\n\\n  new_data = Data(x=x, edge_index=edge_index, y=y)\\n  torch.save(new_data, save_path)\\n  print(f\"Saved subset graph to {save_path}\")\\n  return new_data\\n'"
            ],
            "application/vnd.google.colaboratory.intrinsic+json": {
              "type": "string"
            }
          },
          "metadata": {},
          "execution_count": 4
        }
      ]
    },
    {
      "cell_type": "code",
      "source": [
        "# Still failing because using all RAM\n",
        "'''\n",
        "import random\n",
        "\n",
        "def subsample(data, num_nodes):\n",
        "  node_indices = torch.randperm(data.num_nodes)[:num_nodes]\n",
        "  edge_index, _ = subgraph(node_indices, data.edge_index, relabel_nodes=True)\n",
        "  data.x = data.x[node_indices]\n",
        "  data.y = data.y[node_indices]\n",
        "\n",
        "  # (Re)define masks\n",
        "  data.train_mask = torch.zeros(num_nodes, dtype=torch.bool)\n",
        "  data.train_mask[:int(0.6 * num_nodes)] = True\n",
        "\n",
        "  data.val_mask = torch.zeros(num_nodes, dtype=torch.bool)\n",
        "  data.val_mask[int(0.6 * num_nodes):int(0.8 * num_nodes)] = True\n",
        "\n",
        "  data.test_mask = torch.zeros(num_nodes, dtype=torch.bool)\n",
        "  data.test_mask[int(0.8 * num_nodes):] = True\n",
        "\n",
        "  data.edge_index = edge_index\n",
        "  return data\n",
        "'''"
      ],
      "metadata": {
        "colab": {
          "base_uri": "https://localhost:8080/",
          "height": 105
        },
        "id": "Xw0KcQbw0twl",
        "outputId": "b0a97044-1bc7-4f4e-c827-939702e76b1c"
      },
      "execution_count": null,
      "outputs": [
        {
          "output_type": "execute_result",
          "data": {
            "text/plain": [
              "'\\nimport random\\n\\ndef subsample(data, num_nodes):\\n  node_indices = torch.randperm(data.num_nodes)[:num_nodes]\\n  edge_index, _ = subgraph(node_indices, data.edge_index, relabel_nodes=True)\\n  data.x = data.x[node_indices]\\n  data.y = data.y[node_indices]\\n  \\n  # (Re)define masks\\n  data.train_mask = torch.zeros(num_nodes, dtype=torch.bool)\\n  data.train_mask[:int(0.6 * num_nodes)] = True\\n\\n  data.val_mask = torch.zeros(num_nodes, dtype=torch.bool)\\n  data.val_mask[int(0.6 * num_nodes):int(0.8 * num_nodes)] = True\\n\\n  data.test_mask = torch.zeros(num_nodes, dtype=torch.bool)\\n  data.test_mask[int(0.8 * num_nodes):] = True\\n\\n  data.edge_index = edge_index\\n  return data\\n'"
            ],
            "application/vnd.google.colaboratory.intrinsic+json": {
              "type": "string"
            }
          },
          "metadata": {},
          "execution_count": 5
        }
      ]
    },
    {
      "cell_type": "code",
      "source": [
        "# Still failing because uses all RAM\n",
        "\n",
        "'''\n",
        "def subsample_ogbn_proteins(dataset, num_nodes=7000):\n",
        "  full_data = dataset[0]\n",
        "  sampled_nodes = torch.randperm(full_data.num_nodes)[:num_nodes]\n",
        "\n",
        "  edge_index, edge_mask = subgraph(sampled_nodes, full_data.edge_index, relabel_nodes=True)\n",
        "  edge_attr = full_data.edge_attr[edge_mask]\n",
        "\n",
        "  # Simulate node features if missing\n",
        "  x = torch.zeros((num_nodes, 1))\n",
        "\n",
        "  # Subsample y\n",
        "  y = full_data.y[sampled_nodes]\n",
        "\n",
        "  # Generate new train/val/test masks\n",
        "  train_mask = torch.zeros(num_nodes, dtype=torch.bool)\n",
        "  val_mask = torch.zeros(num_nodes, dtype=torch.bool)\n",
        "  test_mask = torch.zeros(num_nodes, dtype=torch.bool)\n",
        "\n",
        "  train_mask[:int(0.6 * num_nodes)] = True\n",
        "  val_mask[int(0.6 * num_nodes):int(0.8 * num_nodes)] = True\n",
        "  test_mask[int(0.8 * num_nodes):] = True\n",
        "\n",
        "  return Data(\n",
        "      x=x,\n",
        "      edge_index=edge_index,\n",
        "      edge_attr=edge_attr,\n",
        "      y=y,\n",
        "      train_mask=train_mask,\n",
        "      val_mask=val_mask,\n",
        "      test_mask=test_mask,\n",
        "  )\n",
        "'''"
      ],
      "metadata": {
        "colab": {
          "base_uri": "https://localhost:8080/",
          "height": 140
        },
        "id": "9WXN2EiL2Jwm",
        "outputId": "0d53a355-2875-41c6-9ea4-8154f6d3f8d5"
      },
      "execution_count": null,
      "outputs": [
        {
          "output_type": "execute_result",
          "data": {
            "text/plain": [
              "'\\ndef subsample_ogbn_proteins(dataset, num_nodes=7000):\\n  full_data = dataset[0]\\n  sampled_nodes = torch.randperm(full_data.num_nodes)[:num_nodes]\\n\\n  edge_index, edge_mask = subgraph(sampled_nodes, full_data.edge_index, relabel_nodes=True)\\n  edge_attr = full_data.edge_attr[edge_mask]\\n\\n  # Simulate node features if missing\\n  x = torch.zeros((num_nodes, 1))\\n\\n  # Subsample y\\n  y = full_data.y[sampled_nodes]\\n\\n  # Generate new train/val/test masks\\n  train_mask = torch.zeros(num_nodes, dtype=torch.bool)\\n  val_mask = torch.zeros(num_nodes, dtype=torch.bool)\\n  test_mask = torch.zeros(num_nodes, dtype=torch.bool)\\n\\n  train_mask[:int(0.6 * num_nodes)] = True\\n  val_mask[int(0.6 * num_nodes):int(0.8 * num_nodes)] = True\\n  test_mask[int(0.8 * num_nodes):] = True\\n\\n  return Data(\\n      x=x,\\n      edge_index=edge_index,\\n      edge_attr=edge_attr,\\n      y=y,\\n      train_mask=train_mask,\\n      val_mask=val_mask,\\n      test_mask=test_mask,\\n  )\\n'"
            ],
            "application/vnd.google.colaboratory.intrinsic+json": {
              "type": "string"
            }
          },
          "metadata": {},
          "execution_count": 6
        }
      ]
    },
    {
      "cell_type": "code",
      "source": [
        "\n",
        "def load_dataset(name):\n",
        "  if name in [\"Cora\", \"Citeseer\", \"PubMed\"]:\n",
        "    return Planetoid(root=f\"./data/{name}\", name=name)[0]\n",
        "  elif name == \"Texas\":\n",
        "    return WebKB(root=f\"./data/{name}\", name=name)[0]\n",
        "  elif name == \"PolBlogs\":\n",
        "    return PolBlogs(root=f\"./tmp/polblogs\")[0]\n",
        "  elif name == \"ogbn-proteins\":\n",
        "    return PygNodePropPredDataset(root=\"./data/ogb\", name=\"ogbn-proteins\")[0]\n",
        "  elif name == \"Flickr\":\n",
        "    return Flickr(root=f\"./data/Flickr\")[0]\n",
        "  else:\n",
        "    raise ValueError(\"Dataset not found\")\n",
        "\n",
        "datasets = {\n",
        "    \"Cora\": load_dataset(\"Cora\"),\n",
        "    \"Citeseer\": load_dataset(\"Citeseer\"),\n",
        "    \"PubMed\": load_dataset(\"PubMed\"),\n",
        "    \"PolBlogs\": load_dataset(\"PolBlogs\"),\n",
        "    \"Texas\": load_dataset(\"Texas\"),\n",
        "    \"ogbn-proteins\": load_dataset(\"ogbn-proteins\"),\n",
        "    \"Flickr\": load_dataset(\"Flickr\")\n",
        "}\n",
        "\n",
        "# Load datasets for all datasets when using ogbn-proteins, flickr, and pubmed\n",
        "'''\n",
        "def load_dataset(name):\n",
        "  if name in [\"Cora\", \"Citeseer\", \"PubMed\"]:\n",
        "    data = Planetoid(root=f\"./data/{name}\", name=name)[0]\n",
        "\n",
        "    if name == \"PubMed\":\n",
        "      data = subsample(data, 5000)\n",
        "    return data\n",
        "\n",
        "  elif name == \"Texas\":\n",
        "    return WebKB(root=f\"./data/{name}\", name=name)[0]\n",
        "  elif name == \"PolBlogs\":\n",
        "   return PolBlogs(root=f\"./tmp/polblogs\")[0]\n",
        "  elif name == \"ogbn-proteins\":\n",
        "    dataset = PygNodePropPredDataset(root=\"./data/ogb\", name=\"ogbn-proteins\")\n",
        "    return subsample_ogbn_proteins(dataset, num_nodes=7000)\n",
        "\n",
        "  elif name == \"Flickr\":\n",
        "    data = Flickr(root=f\"./data/Flickr\")[0]\n",
        "    return subsample(data, 5000)\n",
        "  else:\n",
        "    raise ValueError(\"Dataset not found\")\n",
        "\n",
        "datasets = {\n",
        "    \"Cora\": load_dataset(\"Cora\"),\n",
        "    \"Citeseer\": load_dataset(\"Citeseer\"),\n",
        "    \"PubMed\": load_dataset(\"PubMed\"),\n",
        "    \"PolBlogs\": load_dataset(\"PolBlogs\"),\n",
        "    \"Texas\": load_dataset(\"Texas\"),\n",
        "    \"ogbn-proteins\": load_dataset(\"ogbn-proteins\"),\n",
        "    \"Flickr\": load_dataset(\"Flickr\")\n",
        "}\n",
        "'''"
      ],
      "metadata": {
        "colab": {
          "base_uri": "https://localhost:8080/",
          "height": 1000
        },
        "collapsed": true,
        "id": "HIKoXe9YphJV",
        "outputId": "dad56a63-db8b-4f88-ffcd-8f3458a41f93"
      },
      "execution_count": null,
      "outputs": [
        {
          "output_type": "stream",
          "name": "stderr",
          "text": [
            "Downloading https://github.com/kimiyoung/planetoid/raw/master/data/ind.cora.x\n",
            "Downloading https://github.com/kimiyoung/planetoid/raw/master/data/ind.cora.tx\n",
            "Downloading https://github.com/kimiyoung/planetoid/raw/master/data/ind.cora.allx\n",
            "Downloading https://github.com/kimiyoung/planetoid/raw/master/data/ind.cora.y\n",
            "Downloading https://github.com/kimiyoung/planetoid/raw/master/data/ind.cora.ty\n",
            "Downloading https://github.com/kimiyoung/planetoid/raw/master/data/ind.cora.ally\n",
            "Downloading https://github.com/kimiyoung/planetoid/raw/master/data/ind.cora.graph\n",
            "Downloading https://github.com/kimiyoung/planetoid/raw/master/data/ind.cora.test.index\n",
            "Processing...\n",
            "Done!\n",
            "Downloading https://github.com/kimiyoung/planetoid/raw/master/data/ind.citeseer.x\n",
            "Downloading https://github.com/kimiyoung/planetoid/raw/master/data/ind.citeseer.tx\n",
            "Downloading https://github.com/kimiyoung/planetoid/raw/master/data/ind.citeseer.allx\n",
            "Downloading https://github.com/kimiyoung/planetoid/raw/master/data/ind.citeseer.y\n",
            "Downloading https://github.com/kimiyoung/planetoid/raw/master/data/ind.citeseer.ty\n",
            "Downloading https://github.com/kimiyoung/planetoid/raw/master/data/ind.citeseer.ally\n",
            "Downloading https://github.com/kimiyoung/planetoid/raw/master/data/ind.citeseer.graph\n",
            "Downloading https://github.com/kimiyoung/planetoid/raw/master/data/ind.citeseer.test.index\n",
            "Processing...\n",
            "Done!\n",
            "Downloading https://github.com/kimiyoung/planetoid/raw/master/data/ind.pubmed.x\n",
            "Downloading https://github.com/kimiyoung/planetoid/raw/master/data/ind.pubmed.tx\n",
            "Downloading https://github.com/kimiyoung/planetoid/raw/master/data/ind.pubmed.allx\n",
            "Downloading https://github.com/kimiyoung/planetoid/raw/master/data/ind.pubmed.y\n",
            "Downloading https://github.com/kimiyoung/planetoid/raw/master/data/ind.pubmed.ty\n",
            "Downloading https://github.com/kimiyoung/planetoid/raw/master/data/ind.pubmed.ally\n",
            "Downloading https://github.com/kimiyoung/planetoid/raw/master/data/ind.pubmed.graph\n",
            "Downloading https://github.com/kimiyoung/planetoid/raw/master/data/ind.pubmed.test.index\n",
            "Processing...\n",
            "Done!\n",
            "Downloading https://netset.telecom-paris.fr/datasets/polblogs.tar.gz\n",
            "Extracting tmp/polblogs/raw/polblogs.tar.gz\n",
            "Processing...\n",
            "Done!\n",
            "Downloading https://raw.githubusercontent.com/graphdml-uiuc-jlu/geom-gcn/master/new_data/texas/out1_node_feature_label.txt\n",
            "Downloading https://raw.githubusercontent.com/graphdml-uiuc-jlu/geom-gcn/master/new_data/texas/out1_graph_edges.txt\n",
            "Downloading https://raw.githubusercontent.com/graphdml-uiuc-jlu/geom-gcn/master/splits/texas_split_0.6_0.2_0.npz\n",
            "Downloading https://raw.githubusercontent.com/graphdml-uiuc-jlu/geom-gcn/master/splits/texas_split_0.6_0.2_1.npz\n",
            "Downloading https://raw.githubusercontent.com/graphdml-uiuc-jlu/geom-gcn/master/splits/texas_split_0.6_0.2_2.npz\n",
            "Downloading https://raw.githubusercontent.com/graphdml-uiuc-jlu/geom-gcn/master/splits/texas_split_0.6_0.2_3.npz\n",
            "Downloading https://raw.githubusercontent.com/graphdml-uiuc-jlu/geom-gcn/master/splits/texas_split_0.6_0.2_4.npz\n",
            "Downloading https://raw.githubusercontent.com/graphdml-uiuc-jlu/geom-gcn/master/splits/texas_split_0.6_0.2_5.npz\n",
            "Downloading https://raw.githubusercontent.com/graphdml-uiuc-jlu/geom-gcn/master/splits/texas_split_0.6_0.2_6.npz\n",
            "Downloading https://raw.githubusercontent.com/graphdml-uiuc-jlu/geom-gcn/master/splits/texas_split_0.6_0.2_7.npz\n",
            "Downloading https://raw.githubusercontent.com/graphdml-uiuc-jlu/geom-gcn/master/splits/texas_split_0.6_0.2_8.npz\n",
            "Downloading https://raw.githubusercontent.com/graphdml-uiuc-jlu/geom-gcn/master/splits/texas_split_0.6_0.2_9.npz\n",
            "Processing...\n",
            "Done!\n"
          ]
        },
        {
          "output_type": "stream",
          "name": "stdout",
          "text": [
            "Downloading http://snap.stanford.edu/ogb/data/nodeproppred/proteins.zip\n"
          ]
        },
        {
          "output_type": "stream",
          "name": "stderr",
          "text": [
            "Downloaded 0.21 GB: 100%|██████████| 216/216 [00:19<00:00, 11.29it/s]\n"
          ]
        },
        {
          "output_type": "stream",
          "name": "stdout",
          "text": [
            "Extracting ./data/ogb/proteins.zip\n"
          ]
        },
        {
          "output_type": "stream",
          "name": "stderr",
          "text": [
            "Processing...\n"
          ]
        },
        {
          "output_type": "stream",
          "name": "stdout",
          "text": [
            "Loading necessary files...\n",
            "This might take a while.\n",
            "Processing graphs...\n"
          ]
        },
        {
          "output_type": "stream",
          "name": "stderr",
          "text": [
            "100%|██████████| 1/1 [00:06<00:00,  6.40s/it]\n"
          ]
        },
        {
          "output_type": "stream",
          "name": "stdout",
          "text": [
            "Converting graphs into PyG objects...\n"
          ]
        },
        {
          "output_type": "stream",
          "name": "stderr",
          "text": [
            "100%|██████████| 1/1 [00:00<00:00, 747.65it/s]\n"
          ]
        },
        {
          "output_type": "stream",
          "name": "stdout",
          "text": [
            "Saving...\n"
          ]
        },
        {
          "output_type": "stream",
          "name": "stderr",
          "text": [
            "Done!\n",
            "Downloading https://drive.usercontent.google.com/download?id=1crmsTbd1-2sEXsGwa2IKnIB7Zd3TmUsy&confirm=t\n",
            "Downloading https://drive.usercontent.google.com/download?id=1join-XdvX3anJU_MLVtick7MgeAQiWIZ&confirm=t\n",
            "Downloading https://drive.usercontent.google.com/download?id=1uxIkbtg5drHTsKt-PAsZZ4_yJmgFmle9&confirm=t\n",
            "Downloading https://drive.usercontent.google.com/download?id=1htXCtuktuCW8TR8KiKfrFDAxUgekQoV7&confirm=t\n",
            "Processing...\n",
            "Done!\n"
          ]
        },
        {
          "output_type": "execute_result",
          "data": {
            "text/plain": [
              "'\\ndef load_dataset(name):\\n  if name in [\"Cora\", \"Citeseer\", \"PubMed\"]:\\n    data = Planetoid(root=f\"./data/{name}\", name=name)[0]\\n\\n    if name == \"PubMed\":\\n      data = subsample(data, 5000)\\n    return data\\n\\n  elif name == \"Texas\":\\n    return WebKB(root=f\"./data/{name}\", name=name)[0]\\n  elif name == \"PolBlogs\":\\n   return PolBlogs(root=f\"./tmp/polblogs\")[0]\\n  elif name == \"ogbn-proteins\":\\n    dataset = PygNodePropPredDataset(root=\"./data/ogb\", name=\"ogbn-proteins\")\\n    return subsample_ogbn_proteins(dataset, num_nodes=7000)\\n\\n  elif name == \"Flickr\":\\n    data = Flickr(root=f\"./data/Flickr\")[0]\\n    return subsample(data, 5000)\\n  else:\\n    raise ValueError(\"Dataset not found\")\\n\\ndatasets = {\\n    \"Cora\": load_dataset(\"Cora\"),\\n    \"Citeseer\": load_dataset(\"Citeseer\"),\\n    \"PubMed\": load_dataset(\"PubMed\"),\\n    \"PolBlogs\": load_dataset(\"PolBlogs\"),\\n    \"Texas\": load_dataset(\"Texas\"),\\n    \"ogbn-proteins\": load_dataset(\"ogbn-proteins\"),\\n    \"Flickr\": load_dataset(\"Flickr\")\\n}\\n'"
            ],
            "application/vnd.google.colaboratory.intrinsic+json": {
              "type": "string"
            }
          },
          "metadata": {},
          "execution_count": 7
        }
      ]
    },
    {
      "cell_type": "markdown",
      "source": [
        "# Define GCN Model"
      ],
      "metadata": {
        "id": "-5C1-X5vp02b"
      }
    },
    {
      "cell_type": "code",
      "source": [
        "class GCN(torch.nn.Module):\n",
        "    def __init__(self, num_features, hidden_channels, num_classes):\n",
        "        super().__init__()\n",
        "        self.gc1 = GCNConv(num_features, hidden_channels)\n",
        "        self.gc2 = GCNConv(hidden_channels, num_classes)\n",
        "\n",
        "        self.nfeat = num_features\n",
        "        self.nclass = num_classes\n",
        "        self.hidden_sizes = [hidden_channels]\n",
        "        self.with_relu = True\n",
        "\n",
        "    @property\n",
        "    def gc1_weight(self):\n",
        "        return self.gc1.lin.weight\n",
        "\n",
        "    @property\n",
        "    def gc2_weight(self):\n",
        "        return self.gc2.lin.weight\n",
        "\n",
        "    @property\n",
        "    def weight(self):\n",
        "        return self.gc1.lin.weight\n",
        "\n",
        "    def forward(self, x, edge_index):\n",
        "        x = self.gc1(x, edge_index)\n",
        "        x = x.relu()\n",
        "        x = F.dropout(x, p=0.5, training=self.training)\n",
        "        x = self.gc2(x, edge_index)\n",
        "        self.output = x\n",
        "        return x"
      ],
      "metadata": {
        "id": "oX-qq5Hop3Ew"
      },
      "execution_count": null,
      "outputs": []
    },
    {
      "cell_type": "markdown",
      "source": [
        "# Train GCN Model"
      ],
      "metadata": {
        "id": "tBWheMutp5rH"
      }
    },
    {
      "cell_type": "code",
      "source": [
        "def train_model(model, data, epochs=100, lr=0.01, weight_decay=5e-4):\n",
        "    optimizer = torch.optim.Adam(model.parameters(), lr=lr, weight_decay=weight_decay)\n",
        "    criterion = torch.nn.CrossEntropyLoss()\n",
        "\n",
        "    for epoch in range(epochs):\n",
        "        model.train()\n",
        "        optimizer.zero_grad()\n",
        "        out = model(data.x, data.edge_index)\n",
        "        loss = criterion(out[data.train_mask], data.y[data.train_mask])\n",
        "        loss.backward()\n",
        "        optimizer.step()\n",
        "\n",
        "        if epoch % 10 == 0:\n",
        "            print(f'Epoch {epoch}, Loss: {loss:.4f}')\n",
        "\n",
        "    return model\n"
      ],
      "metadata": {
        "id": "iyj8k5OIp8D6"
      },
      "execution_count": null,
      "outputs": []
    },
    {
      "cell_type": "markdown",
      "source": [
        "# Metattack Over All Datasets"
      ],
      "metadata": {
        "id": "bm5azSBxp9X8"
      }
    },
    {
      "cell_type": "code",
      "source": [
        "def apply_metattack(model, data, num_perturbations):\n",
        "  # Convert adjacency matrix and features to sparse format\n",
        "  adj = to_scipy_sparse_matrix(data.edge_index, num_nodes=data.num_nodes).tocsr()\n",
        "  features = sparse.csr_matrix(data.x.numpy())\n",
        "  labels = data.y.numpy()\n",
        "\n",
        "  # Get train and unlabeled indices\n",
        "  idx_train = data.train_mask.nonzero(as_tuple=True)[0].cpu().numpy()\n",
        "  idx_unlabeled = (~data.train_mask).nonzero(as_tuple=True)[0].cpu().numpy()\n",
        "\n",
        "  # Initialize Metattack\n",
        "  attacker = Metattack(\n",
        "      model=model,\n",
        "      nnodes=data.num_nodes,\n",
        "      attack_structure=True,\n",
        "      attack_features=False,\n",
        "      device='cpu'\n",
        "  )\n",
        "\n",
        "  # Perform attack\n",
        "  attacker.attack(\n",
        "      features,\n",
        "      adj,\n",
        "      labels,\n",
        "      idx_train,\n",
        "      idx_unlabeled,\n",
        "      n_perturbations=num_perturbations,\n",
        "      ll_constraint=False  # This avoids the sparse tensor issue\n",
        "  )\n",
        "\n",
        "  # Ensure `modified_adj` and `modified_features` exist and return them\n",
        "  modified_adj = attacker.modified_adj\n",
        "  modified_features = attacker.modified_features\n",
        "\n",
        "  # If Metattack doesn't return features, use the original\n",
        "  if modified_features is None:\n",
        "      modified_features = data.x\n",
        "\n",
        "  return attacker.modified_adj, attacker.modified_features"
      ],
      "metadata": {
        "id": "XUIUJ0dEqB7c"
      },
      "execution_count": null,
      "outputs": []
    },
    {
      "cell_type": "markdown",
      "source": [
        "# Evaluate Model"
      ],
      "metadata": {
        "id": "XuQV1c66qGA2"
      }
    },
    {
      "cell_type": "code",
      "source": [
        "def evaluate_model(model, data, perturbed_adj, perturbed_features):\n",
        "  # Check the type of perturbed_adj\n",
        "  print(f\"perturbed_adj type: {type(perturbed_adj)}\")\n",
        "\n",
        "  # Ensure the adjacency matrix is in sparse COO format\n",
        "  if not perturbed_adj.is_sparse:\n",
        "        perturbed_adj = perturbed_adj.to_sparse()\n",
        "\n",
        "  # Get edge_index directly from the sparse tensor (COO format)\n",
        "  edge_index = perturbed_adj._indices()\n",
        "\n",
        "  # Use original features if perturbed ones are not returned\n",
        "  if perturbed_features is None:\n",
        "        perturbed_x = data.x\n",
        "  else:\n",
        "      if hasattr(perturbed_features, \"toarray\"):\n",
        "          perturbed_x = torch.tensor(perturbed_features.toarray(), dtype=torch.float)\n",
        "      else:\n",
        "          perturbed_x = perturbed_features\n",
        "\n",
        "  # Forward pass through the model using the perturbed graph and features\n",
        "  model.eval()\n",
        "  with torch.no_grad():\n",
        "        out = model(perturbed_x, edge_index)\n",
        "\n",
        "  # Ensure test_mask is correctly sized and boolean\n",
        "  if data.test_mask.shape[0] != data.num_nodes:\n",
        "    print(f\"Adjusting test_mask size for {data.dataset_name}...\")\n",
        "    # Truncate or adjust the size\n",
        "    data.test_mask = data.test_mask[:data.num_nodes]\n",
        "\n",
        "  # Flatten test_mask if it's not 1D\n",
        "  if len(data.test_mask.shape) > 1:\n",
        "      data.test_mask = data.test_mask.flatten()\n",
        "\n",
        "  # Ensure data.test_mask has the correct size and is boolean\n",
        "  data.test_mask = data.test_mask[:data.num_nodes].to(torch.bool)\n",
        "\n",
        "  #if len(data.test_mask.shape) == 1:\n",
        "    # Ensure it is boolean\n",
        "    #data.test_mask = data.test_mask.to(torch.bool)\n",
        "\n",
        "  # Check the shapes of predictions and ground truth labels\n",
        "  print(f\"Prediction shape: {out.shape}\")\n",
        "  print(f\"test_mask shape: {data.test_mask.shape}\")\n",
        "  print(f\"Ground truth labels shape: {data.y.shape}\")\n",
        "\n",
        "  # Ensure data.y has the same size as test_mask\n",
        "  assert data.y.shape[0] == data.num_nodes, \"data.y shape mismatch with num_nodes\"\n",
        "\n",
        "  # Get predicted class labels\n",
        "  pred = out.argmax(dim=1)\n",
        "  # Compare predictions to ground truth\n",
        "  correct = (pred[data.test_mask] == data.y[data.test_mask]).sum().item()\n",
        "  # Calculate accuracy\n",
        "  acc = correct / data.test_mask.sum().item()\n",
        "\n",
        "  return acc"
      ],
      "metadata": {
        "id": "T4lAhw2eqHbX"
      },
      "execution_count": null,
      "outputs": []
    },
    {
      "cell_type": "markdown",
      "source": [
        "# Visualization"
      ],
      "metadata": {
        "id": "xqn-4UTMqIzo"
      }
    },
    {
      "cell_type": "code",
      "source": [
        "def visualize_graph(edge_index, title=\"Graph\"):\n",
        "  if isinstance(edge_index, torch.Tensor):\n",
        "    edge_index = edge_index.cpu().numpy()\n",
        "\n",
        "  if edge_index.shape[0] != 2:\n",
        "    raise ValueError(\"Expected edge_index shape [2, num_edges]\")\n",
        "\n",
        "  # Convert to list of edge tuples\n",
        "  edge_list = list(zip(edge_index[0], edge_index[1]))\n",
        "\n",
        "  G = nx.Graph()\n",
        "  G.add_edges_from(edge_list)\n",
        "  plt.figure(figsize=(8, 6))\n",
        "  nx.draw(G, node_size=30, edge_color=\"gray\", alpha=0.6, with_labels=False)\n",
        "  plt.title(title)\n",
        "  plt.show()"
      ],
      "metadata": {
        "id": "aWWuNPdhqKem"
      },
      "execution_count": null,
      "outputs": []
    },
    {
      "cell_type": "markdown",
      "source": [
        "# Create Masks"
      ],
      "metadata": {
        "id": "fiy3s9mkyfXu"
      }
    },
    {
      "cell_type": "code",
      "source": [
        "def split_masks(data, train_ratio=0.6, val_ratio=0.2):\n",
        "  num_nodes = data.num_nodes\n",
        "  indices = torch.randperm(num_nodes)\n",
        "\n",
        "  train_size = int(train_ratio * num_nodes)\n",
        "  val_size = int(val_ratio * num_nodes)\n",
        "\n",
        "  data.train_mask = torch.zeros(num_nodes, dtype=torch.bool)\n",
        "  data.val_mask = torch.zeros(num_nodes, dtype=torch.bool)\n",
        "  data.test_mask = torch.zeros(num_nodes, dtype=torch.bool)\n",
        "\n",
        "  data.train_mask[indices[:train_size]] = True\n",
        "  data.val_mask[indices[train_size:train_size + val_size]] = True\n",
        "  data.test_mask[indices[train_size + val_size:]] = True\n",
        "\n",
        "  return data"
      ],
      "metadata": {
        "id": "Wejt8Cw1yfGZ"
      },
      "execution_count": null,
      "outputs": []
    },
    {
      "cell_type": "markdown",
      "source": [
        "# Run Experiments"
      ],
      "metadata": {
        "id": "VD_uzhsbqMmC"
      }
    },
    {
      "cell_type": "code",
      "source": [
        "# TODO: make num_perturbations 0.2 * number of edges (once initial experiments run)\n",
        "\n",
        "def run_experiment(dataset_name):\n",
        "  dataset = load_dataset(dataset_name)\n",
        "\n",
        "  if isinstance(dataset, Data):\n",
        "    # Already a Data object\n",
        "    data = dataset\n",
        "  else:\n",
        "    # Dataset is a list-like object (like Planetoid)\n",
        "    data = dataset[0]\n",
        "\n",
        "  if data.x is None:\n",
        "    # Patching missing features (for PolBlogs, speficially)\n",
        "    # All zero-features carry no useful info -> poor performance,\n",
        "    # so each node has a unique identifier (one-hot encoding). GNN can differentiate them based on graph structure + node identity\n",
        "    print(f\"{dataset_name} patching missing features...\")\n",
        "    data.x = torch.eye(data.num_nodes)\n",
        "\n",
        "  # Check the shape of the masks and labels BEFORE: debug\n",
        "  #print(f\"train_mask shape: {data.train_mask.shape}\")\n",
        "  #print(f\"data.y shape: {data.y.shape}\")\n",
        "\n",
        "  if not hasattr(data, 'train_mask') or data.train_mask.shape[0] != data.num_nodes:\n",
        "    # dataset that doesnt come with masks ie. built-in train/test/val splits\n",
        "    print(f\"{dataset_name} making masks...\")\n",
        "    data = split_masks(data)\n",
        "  else:\n",
        "    if len(data.train_mask.shape) > 1:\n",
        "      # If the train_mask exists but is not 1D, fix it to be\n",
        "      print(f\"Fixing train_mask_shape for {dataset_name}...\")\n",
        "      data.train_mask = data.train_mask.view(-1)\n",
        "\n",
        "  # check train_mask is correct (Texas)\n",
        "  if data.train_mask.shape[0] != data.num_nodes:\n",
        "    print(f\"Adjusting train_masks size for {dataset_name}...\")\n",
        "    # Truncate or adjust the size\n",
        "    data.train_mask = data.train_mask[:data.num_nodes]\n",
        "  if len(data.train_mask.shape) == 1:\n",
        "    # Ensure it is boolean\n",
        "    data.train_mask = data.train_mask.to(torch.bool)\n",
        "\n",
        "  # Check the shape of the masks and labels AFTER: debug\n",
        "  #print(f\"train_mask shape: {data.train_mask.shape}\")\n",
        "  #print(f\"data.y shape: {data.y.shape}\")\n",
        "\n",
        "  num_classes = len(torch.unique(data.y))\n",
        "\n",
        "  print(\"=\" * 100)\n",
        "  print(f\"Dataset: {dataset_name}\\n\")\n",
        "  print(f\"Number of nodes: {data.num_nodes}\")\n",
        "  print(f\"Number of features: {data.num_features}\")\n",
        "  print(f\"Number of classes: {num_classes}\\n\")\n",
        "\n",
        "  model = GCN(data.num_features, 16, num_classes)\n",
        "  model = train_model(model, data)\n",
        "\n",
        "  if data.num_nodes <= 5000:\n",
        "    print(\"-\" * 100)\n",
        "    print(\"Original Graph\")\n",
        "    visualize_graph(data.edge_index, title=f\"{dataset_name}: Before Metattack\")\n",
        "\n",
        "  num_perturbations = int(data.edge_index.size(1) * 0.01)\n",
        "  print(f\"Running on {num_perturbations} perturbations\")\n",
        "  # TODO: make num_perturbations 0.2 * number of edges once initial experiments run\n",
        "  perturbed_adj, perturbed_features = apply_metattack(model, data, num_perturbations=num_perturbations)\n",
        "  edge_index_perturbed = perturbed_adj.nonzero().t()\n",
        "\n",
        "  if data.num_nodes <= 5000:\n",
        "    print(\"-\" * 100)\n",
        "    print(\"Perturbed Graph\")\n",
        "    visualize_graph(edge_index_perturbed, title=f\"{dataset_name}: After Metattack\")\n",
        "\n",
        "  acc = evaluate_model(model, data, perturbed_adj, perturbed_features)\n",
        "  print(f\"Accuracy after Metattack on {dataset_name}: {acc:.4f}\")\n"
      ],
      "metadata": {
        "id": "gvFgB0LVqN4-"
      },
      "execution_count": null,
      "outputs": []
    },
    {
      "cell_type": "markdown",
      "source": [
        "# Execution"
      ],
      "metadata": {
        "id": "8r9IL9t2qQhh"
      }
    },
    {
      "cell_type": "code",
      "source": [
        "# all datasets, uncomment when debugged all\n",
        "#datasets = [\"Cora\", \"Citeseer\", \"PolBlogs\", \"Texas\", \"Flickr\", \"PubMed\", \"ogbn-proteins\"]\n",
        "\n",
        "# Base code these datasets run\n",
        "datasets = [\"Cora\", \"Citeseer\", \"PolBlogs\", \"Texas\"]\n",
        "# These datasets crash - reason: too big, use all available RAM\n",
        "#datasets = [ \"ogbn-proteins\", \"Flickr\", \"PubMed\"]\n",
        "\n",
        "for dataset_name in datasets:\n",
        "  run_experiment(dataset_name)"
      ],
      "metadata": {
        "colab": {
          "base_uri": "https://localhost:8080/",
          "height": 1000
        },
        "id": "ND7BORaMqRpy",
        "outputId": "c0e042c0-7649-4d8d-bd79-d180124b9634"
      },
      "execution_count": null,
      "outputs": [
        {
          "metadata": {
            "tags": null
          },
          "name": "stdout",
          "output_type": "stream",
          "text": [
            "====================================================================================================\n",
            "Dataset: Cora\n",
            "\n",
            "Number of nodes: 2708\n",
            "Number of features: 1433\n",
            "Number of classes: 7\n",
            "\n",
            "Epoch 0, Loss: 1.9524\n",
            "Epoch 10, Loss: 0.8456\n",
            "Epoch 20, Loss: 0.2643\n",
            "Epoch 30, Loss: 0.1047\n",
            "Epoch 40, Loss: 0.0679\n",
            "Epoch 50, Loss: 0.0617\n",
            "Epoch 60, Loss: 0.0441\n",
            "Epoch 70, Loss: 0.0378\n",
            "Epoch 80, Loss: 0.0411\n",
            "Epoch 90, Loss: 0.0440\n",
            "----------------------------------------------------------------------------------------------------\n",
            "Original Graph\n"
          ]
        },
        {
          "data": {
            "image/png": "[encoded data removed]",
            "text/plain": [
              "<Figure size 800x600 with 1 Axes>"
            ]
          },
          "metadata": {},
          "output_type": "display_data"
        },
        {
          "metadata": {
            "tags": null
          },
          "name": "stdout",
          "output_type": "stream",
          "text": [
            "Running on 211 perturbations\n"
          ]
        },
        {
          "metadata": {
            "tags": null
          },
          "name": "stderr",
          "output_type": "stream",
          "text": [
            "\rPerturbing graph:   0%|          | 0/211 [00:00<?, ?it/s]"
          ]
        },
        {
          "metadata": {
            "tags": null
          },
          "name": "stdout",
          "output_type": "stream",
          "text": [
            "GCN loss on unlabled data: 0.6492728590965271\n",
            "GCN acc on unlabled data: 0.7885514018691588\n",
            "attack loss: 0.346646249294281\n"
          ]
        },
        {
          "metadata": {
            "tags": null
          },
          "name": "stderr",
          "output_type": "stream",
          "text": [
            "\rPerturbing graph:   0%|          | 1/211 [00:17<1:02:41, 17.91s/it]"
          ]
        },
        {
          "metadata": {
            "tags": null
          },
          "name": "stdout",
          "output_type": "stream",
          "text": [
            "GCN loss on unlabled data: 0.6852059960365295\n",
            "GCN acc on unlabled data: 0.7916666666666666\n",
            "attack loss: 0.34359827637672424\n"
          ]
        },
        {
          "metadata": {
            "tags": null
          },
          "name": "stderr",
          "output_type": "stream",
          "text": [
            "\rPerturbing graph:   1%|          | 2/211 [00:39<1:09:42, 20.01s/it]"
          ]
        },
        {
          "metadata": {
            "tags": null
          },
          "name": "stdout",
          "output_type": "stream",
          "text": [
            "GCN loss on unlabled data: 0.7039938569068909\n",
            "GCN acc on unlabled data: 0.7737538940809969\n",
            "attack loss: 0.3528505861759186\n"
          ]
        },
        {
          "metadata": {
            "tags": null
          },
          "name": "stderr",
          "output_type": "stream",
          "text": [
            "\rPerturbing graph:   1%|▏         | 3/211 [01:00<1:11:05, 20.51s/it]"
          ]
        },
        {
          "metadata": {
            "tags": null
          },
          "name": "stdout",
          "output_type": "stream",
          "text": [
            "GCN loss on unlabled data: 0.7393073439598083\n",
            "GCN acc on unlabled data: 0.7725856697819314\n",
            "attack loss: 0.34826427698135376\n"
          ]
        },
        {
          "metadata": {
            "tags": null
          },
          "name": "stderr",
          "output_type": "stream",
          "text": [
            "\rPerturbing graph:   2%|▏         | 4/211 [01:17<1:06:21, 19.24s/it]"
          ]
        },
        {
          "metadata": {
            "tags": null
          },
          "name": "stdout",
          "output_type": "stream",
          "text": [
            "GCN loss on unlabled data: 0.7238513231277466\n",
            "GCN acc on unlabled data: 0.7651869158878505\n",
            "attack loss: 0.37508925795555115\n"
          ]
        },
        {
          "metadata": {
            "tags": null
          },
          "name": "stderr",
          "output_type": "stream",
          "text": [
            "\rPerturbing graph:   2%|▏         | 5/211 [01:35<1:03:34, 18.51s/it]"
          ]
        },
        {
          "metadata": {
            "tags": null
          },
          "name": "stdout",
          "output_type": "stream",
          "text": [
            "GCN loss on unlabled data: 0.707150936126709\n",
            "GCN acc on unlabled data: 0.7827102803738317\n",
            "attack loss: 0.3621445596218109\n"
          ]
        },
        {
          "metadata": {
            "tags": null
          },
          "name": "stderr",
          "output_type": "stream",
          "text": [
            "\rPerturbing graph:   3%|▎         | 6/211 [01:53<1:03:24, 18.56s/it]"
          ]
        },
        {
          "metadata": {
            "tags": null
          },
          "name": "stdout",
          "output_type": "stream",
          "text": [
            "GCN loss on unlabled data: 0.769719123840332\n",
            "GCN acc on unlabled data: 0.7729750778816199\n",
            "attack loss: 0.37421396374702454\n"
          ]
        },
        {
          "metadata": {
            "tags": null
          },
          "name": "stderr",
          "output_type": "stream",
          "text": [
            "\rPerturbing graph:   3%|▎         | 7/211 [02:10<1:01:43, 18.15s/it]"
          ]
        },
        {
          "metadata": {
            "tags": null
          },
          "name": "stdout",
          "output_type": "stream",
          "text": [
            "GCN loss on unlabled data: 0.7151152491569519\n",
            "GCN acc on unlabled data: 0.7819314641744548\n",
            "attack loss: 0.37095561623573303\n"
          ]
        },
        {
          "metadata": {
            "tags": null
          },
          "name": "stderr",
          "output_type": "stream",
          "text": [
            "\rPerturbing graph:   4%|▍         | 8/211 [02:28<1:00:34, 17.90s/it]"
          ]
        },
        {
          "metadata": {
            "tags": null
          },
          "name": "stdout",
          "output_type": "stream",
          "text": [
            "GCN loss on unlabled data: 0.7479382753372192\n",
            "GCN acc on unlabled data: 0.7718068535825545\n",
            "attack loss: 0.39795857667922974\n"
          ]
        },
        {
          "metadata": {
            "tags": null
          },
          "name": "stderr",
          "output_type": "stream",
          "text": [
            "\rPerturbing graph:   4%|▍         | 9/211 [02:46<1:00:27, 17.96s/it]"
          ]
        },
        {
          "metadata": {
            "tags": null
          },
          "name": "stdout",
          "output_type": "stream",
          "text": [
            "GCN loss on unlabled data: 0.7218083143234253\n",
            "GCN acc on unlabled data: 0.7718068535825545\n",
            "attack loss: 0.39386484026908875\n"
          ]
        },
        {
          "metadata": {
            "tags": null
          },
          "name": "stderr",
          "output_type": "stream",
          "text": [
            "\rPerturbing graph:   5%|▍         | 10/211 [03:03<59:10, 17.66s/it] "
          ]
        },
        {
          "metadata": {
            "tags": null
          },
          "name": "stdout",
          "output_type": "stream",
          "text": [
            "GCN loss on unlabled data: 0.7774046659469604\n",
            "GCN acc on unlabled data: 0.7663551401869159\n",
            "attack loss: 0.3768822252750397\n"
          ]
        },
        {
          "metadata": {
            "tags": null
          },
          "name": "stderr",
          "output_type": "stream",
          "text": [
            "\rPerturbing graph:   5%|▌         | 11/211 [03:20<58:23, 17.52s/it]"
          ]
        },
        {
          "metadata": {
            "tags": null
          },
          "name": "stdout",
          "output_type": "stream",
          "text": [
            "GCN loss on unlabled data: 0.768456220626831\n",
            "GCN acc on unlabled data: 0.7760903426791277\n",
            "attack loss: 0.3795550763607025\n"
          ]
        },
        {
          "metadata": {
            "tags": null
          },
          "name": "stderr",
          "output_type": "stream",
          "text": [
            "\rPerturbing graph:   6%|▌         | 12/211 [03:39<59:04, 17.81s/it]"
          ]
        },
        {
          "metadata": {
            "tags": null
          },
          "name": "stdout",
          "output_type": "stream",
          "text": [
            "GCN loss on unlabled data: 0.7568419575691223\n",
            "GCN acc on unlabled data: 0.7749221183800623\n",
            "attack loss: 0.37495091557502747\n"
          ]
        },
        {
          "metadata": {
            "tags": null
          },
          "name": "stderr",
          "output_type": "stream",
          "text": [
            "\rPerturbing graph:   6%|▌         | 13/211 [03:56<58:17, 17.67s/it]"
          ]
        },
        {
          "metadata": {
            "tags": null
          },
          "name": "stdout",
          "output_type": "stream",
          "text": [
            "GCN loss on unlabled data: 0.8001287579536438\n",
            "GCN acc on unlabled data: 0.758177570093458\n",
            "attack loss: 0.4123607575893402\n"
          ]
        },
        {
          "metadata": {
            "tags": null
          },
          "name": "stderr",
          "output_type": "stream",
          "text": [
            "\rPerturbing graph:   7%|▋         | 14/211 [04:14<58:38, 17.86s/it]"
          ]
        },
        {
          "metadata": {
            "tags": null
          },
          "name": "stdout",
          "output_type": "stream",
          "text": [
            "GCN loss on unlabled data: 0.773961067199707\n",
            "GCN acc on unlabled data: 0.7644080996884736\n",
            "attack loss: 0.38674110174179077\n"
          ]
        },
        {
          "metadata": {
            "tags": null
          },
          "name": "stderr",
          "output_type": "stream",
          "text": [
            "\rPerturbing graph:   7%|▋         | 15/211 [04:32<57:54, 17.73s/it]"
          ]
        },
        {
          "metadata": {
            "tags": null
          },
          "name": "stdout",
          "output_type": "stream",
          "text": [
            "GCN loss on unlabled data: 0.8066549897193909\n",
            "GCN acc on unlabled data: 0.7605140186915887\n",
            "attack loss: 0.4019908010959625\n"
          ]
        },
        {
          "metadata": {
            "tags": null
          },
          "name": "stderr",
          "output_type": "stream",
          "text": [
            "\rPerturbing graph:   8%|▊         | 16/211 [04:49<57:21, 17.65s/it]"
          ]
        },
        {
          "metadata": {
            "tags": null
          },
          "name": "stdout",
          "output_type": "stream",
          "text": [
            "GCN loss on unlabled data: 0.8201873898506165\n",
            "GCN acc on unlabled data: 0.7718068535825545\n",
            "attack loss: 0.38591793179512024\n"
          ]
        },
        {
          "metadata": {
            "tags": null
          },
          "name": "stderr",
          "output_type": "stream",
          "text": [
            "\rPerturbing graph:   8%|▊         | 17/211 [05:08<58:34, 18.12s/it]"
          ]
        },
        {
          "metadata": {
            "tags": null
          },
          "name": "stdout",
          "output_type": "stream",
          "text": [
            "GCN loss on unlabled data: 0.8273792862892151\n",
            "GCN acc on unlabled data: 0.7519470404984424\n",
            "attack loss: 0.4052002727985382\n"
          ]
        },
        {
          "metadata": {
            "tags": null
          },
          "name": "stderr",
          "output_type": "stream",
          "text": [
            "\rPerturbing graph:   9%|▊         | 18/211 [05:33<1:04:50, 20.16s/it]"
          ]
        },
        {
          "metadata": {
            "tags": null
          },
          "name": "stdout",
          "output_type": "stream",
          "text": [
            "GCN loss on unlabled data: 0.8219765424728394\n",
            "GCN acc on unlabled data: 0.7612928348909658\n",
            "attack loss: 0.3922201097011566\n"
          ]
        },
        {
          "metadata": {
            "tags": null
          },
          "name": "stderr",
          "output_type": "stream",
          "text": [
            "\rPerturbing graph:   9%|▉         | 19/211 [05:51<1:02:40, 19.58s/it]"
          ]
        },
        {
          "metadata": {
            "tags": null
          },
          "name": "stdout",
          "output_type": "stream",
          "text": [
            "GCN loss on unlabled data: 0.7812843322753906\n",
            "GCN acc on unlabled data: 0.7659657320872274\n",
            "attack loss: 0.38327276706695557\n"
          ]
        },
        {
          "metadata": {
            "tags": null
          },
          "name": "stderr",
          "output_type": "stream",
          "text": [
            "\rPerturbing graph:   9%|▉         | 20/211 [06:09<1:00:08, 18.89s/it]"
          ]
        },
        {
          "metadata": {
            "tags": null
          },
          "name": "stdout",
          "output_type": "stream",
          "text": [
            "GCN loss on unlabled data: 0.8804286122322083\n",
            "GCN acc on unlabled data: 0.7492211838006231\n",
            "attack loss: 0.4169396460056305\n"
          ]
        },
        {
          "metadata": {
            "tags": null
          },
          "name": "stderr",
          "output_type": "stream",
          "text": [
            "\rPerturbing graph:  10%|▉         | 21/211 [06:27<59:27, 18.78s/it]  "
          ]
        },
        {
          "metadata": {
            "tags": null
          },
          "name": "stdout",
          "output_type": "stream",
          "text": [
            "GCN loss on unlabled data: 0.7694770097732544\n",
            "GCN acc on unlabled data: 0.7694704049844237\n",
            "attack loss: 0.38514548540115356\n"
          ]
        },
        {
          "metadata": {
            "tags": null
          },
          "name": "stderr",
          "output_type": "stream",
          "text": [
            "\rPerturbing graph:  10%|█         | 22/211 [06:45<57:48, 18.35s/it]"
          ]
        },
        {
          "metadata": {
            "tags": null
          },
          "name": "stdout",
          "output_type": "stream",
          "text": [
            "GCN loss on unlabled data: 0.825432538986206\n",
            "GCN acc on unlabled data: 0.7496105919003115\n",
            "attack loss: 0.41913285851478577\n"
          ]
        },
        {
          "metadata": {
            "tags": null
          },
          "name": "stderr",
          "output_type": "stream",
          "text": [
            "\rPerturbing graph:  11%|█         | 23/211 [07:02<56:41, 18.09s/it]"
          ]
        },
        {
          "metadata": {
            "tags": null
          },
          "name": "stdout",
          "output_type": "stream",
          "text": [
            "GCN loss on unlabled data: 0.8155741691589355\n",
            "GCN acc on unlabled data: 0.7612928348909658\n",
            "attack loss: 0.39586880803108215\n"
          ]
        },
        {
          "metadata": {
            "tags": null
          },
          "name": "stderr",
          "output_type": "stream",
          "text": [
            "\rPerturbing graph:  11%|█▏        | 24/211 [07:21<56:57, 18.27s/it]"
          ]
        },
        {
          "metadata": {
            "tags": null
          },
          "name": "stdout",
          "output_type": "stream",
          "text": [
            "GCN loss on unlabled data: 0.8394193649291992\n",
            "GCN acc on unlabled data: 0.7449376947040498\n",
            "attack loss: 0.42400887608528137\n"
          ]
        },
        {
          "metadata": {
            "tags": null
          },
          "name": "stderr",
          "output_type": "stream",
          "text": [
            "\rPerturbing graph:  12%|█▏        | 25/211 [07:38<55:43, 17.98s/it]"
          ]
        },
        {
          "metadata": {
            "tags": null
          },
          "name": "stdout",
          "output_type": "stream",
          "text": [
            "GCN loss on unlabled data: 0.9179348349571228\n",
            "GCN acc on unlabled data: 0.7414330218068536\n",
            "attack loss: 0.44202396273612976\n"
          ]
        },
        {
          "metadata": {
            "tags": null
          },
          "name": "stderr",
          "output_type": "stream",
          "text": [
            "\rPerturbing graph:  12%|█▏        | 26/211 [07:56<55:09, 17.89s/it]"
          ]
        },
        {
          "metadata": {
            "tags": null
          },
          "name": "stdout",
          "output_type": "stream",
          "text": [
            "GCN loss on unlabled data: 0.8138354420661926\n",
            "GCN acc on unlabled data: 0.7562305295950156\n",
            "attack loss: 0.43082401156425476\n"
          ]
        },
        {
          "metadata": {
            "tags": null
          },
          "name": "stderr",
          "output_type": "stream",
          "text": [
            "\rPerturbing graph:  13%|█▎        | 27/211 [08:13<54:36, 17.81s/it]"
          ]
        },
        {
          "metadata": {
            "tags": null
          },
          "name": "stdout",
          "output_type": "stream",
          "text": [
            "GCN loss on unlabled data: 0.8577834367752075\n",
            "GCN acc on unlabled data: 0.7468847352024922\n",
            "attack loss: 0.4255664348602295\n"
          ]
        },
        {
          "metadata": {
            "tags": null
          },
          "name": "stderr",
          "output_type": "stream",
          "text": [
            "\rPerturbing graph:  13%|█▎        | 28/211 [08:30<53:31, 17.55s/it]"
          ]
        },
        {
          "metadata": {
            "tags": null
          },
          "name": "stdout",
          "output_type": "stream",
          "text": [
            "GCN loss on unlabled data: 0.8518435955047607\n",
            "GCN acc on unlabled data: 0.7531152647975078\n",
            "attack loss: 0.43169644474983215\n"
          ]
        },
        {
          "metadata": {
            "tags": null
          },
          "name": "stderr",
          "output_type": "stream",
          "text": [
            "\rPerturbing graph:  14%|█▎        | 29/211 [08:49<54:06, 17.84s/it]"
          ]
        },
        {
          "metadata": {
            "tags": null
          },
          "name": "stdout",
          "output_type": "stream",
          "text": [
            "GCN loss on unlabled data: 0.8949637413024902\n",
            "GCN acc on unlabled data: 0.7449376947040498\n",
            "attack loss: 0.4493876099586487\n"
          ]
        },
        {
          "metadata": {
            "tags": null
          },
          "name": "stderr",
          "output_type": "stream",
          "text": [
            "\rPerturbing graph:  14%|█▍        | 30/211 [09:06<53:19, 17.68s/it]"
          ]
        },
        {
          "metadata": {
            "tags": null
          },
          "name": "stdout",
          "output_type": "stream",
          "text": [
            "GCN loss on unlabled data: 0.8802870512008667\n",
            "GCN acc on unlabled data: 0.7328660436137072\n",
            "attack loss: 0.44815462827682495\n"
          ]
        },
        {
          "metadata": {
            "tags": null
          },
          "name": "stderr",
          "output_type": "stream",
          "text": [
            "\rPerturbing graph:  15%|█▍        | 31/211 [09:24<53:07, 17.71s/it]"
          ]
        },
        {
          "metadata": {
            "tags": null
          },
          "name": "stdout",
          "output_type": "stream",
          "text": [
            "GCN loss on unlabled data: 0.8581833839416504\n",
            "GCN acc on unlabled data: 0.7410436137071651\n",
            "attack loss: 0.440507173538208\n"
          ]
        },
        {
          "metadata": {
            "tags": null
          },
          "name": "stderr",
          "output_type": "stream",
          "text": [
            "\rPerturbing graph:  15%|█▌        | 32/211 [09:42<53:19, 17.87s/it]"
          ]
        },
        {
          "metadata": {
            "tags": null
          },
          "name": "stdout",
          "output_type": "stream",
          "text": [
            "GCN loss on unlabled data: 0.7966634035110474\n",
            "GCN acc on unlabled data: 0.7523364485981309\n",
            "attack loss: 0.40121328830718994\n"
          ]
        },
        {
          "metadata": {
            "tags": null
          },
          "name": "stderr",
          "output_type": "stream",
          "text": [
            "\rPerturbing graph:  16%|█▌        | 33/211 [10:00<52:30, 17.70s/it]"
          ]
        },
        {
          "metadata": {
            "tags": null
          },
          "name": "stdout",
          "output_type": "stream",
          "text": [
            "GCN loss on unlabled data: 0.9684126973152161\n",
            "GCN acc on unlabled data: 0.7332554517133957\n",
            "attack loss: 0.4798692762851715\n"
          ]
        },
        {
          "metadata": {
            "tags": null
          },
          "name": "stderr",
          "output_type": "stream",
          "text": [
            "\rPerturbing graph:  16%|█▌        | 34/211 [10:17<51:46, 17.55s/it]"
          ]
        },
        {
          "metadata": {
            "tags": null
          },
          "name": "stdout",
          "output_type": "stream",
          "text": [
            "GCN loss on unlabled data: 0.9560434818267822\n",
            "GCN acc on unlabled data: 0.743380062305296\n",
            "attack loss: 0.4836779236793518\n"
          ]
        },
        {
          "metadata": {
            "tags": null
          },
          "name": "stderr",
          "output_type": "stream",
          "text": [
            "\rPerturbing graph:  17%|█▋        | 35/211 [10:35<52:14, 17.81s/it]"
          ]
        },
        {
          "metadata": {
            "tags": null
          },
          "name": "stdout",
          "output_type": "stream",
          "text": [
            "GCN loss on unlabled data: 0.8161777853965759\n",
            "GCN acc on unlabled data: 0.7464953271028038\n",
            "attack loss: 0.4260774254798889\n"
          ]
        },
        {
          "metadata": {
            "tags": null
          },
          "name": "stderr",
          "output_type": "stream",
          "text": [
            "\rPerturbing graph:  17%|█▋        | 36/211 [10:52<51:28, 17.65s/it]"
          ]
        },
        {
          "metadata": {
            "tags": null
          },
          "name": "stdout",
          "output_type": "stream",
          "text": [
            "GCN loss on unlabled data: 0.9935900568962097\n",
            "GCN acc on unlabled data: 0.7266355140186916\n",
            "attack loss: 0.4796423316001892\n"
          ]
        },
        {
          "metadata": {
            "tags": null
          },
          "name": "stderr",
          "output_type": "stream",
          "text": [
            "\rPerturbing graph:  18%|█▊        | 37/211 [11:11<51:35, 17.79s/it]"
          ]
        },
        {
          "metadata": {
            "tags": null
          },
          "name": "stdout",
          "output_type": "stream",
          "text": [
            "GCN loss on unlabled data: 0.883262574672699\n",
            "GCN acc on unlabled data: 0.7410436137071651\n",
            "attack loss: 0.4433485269546509\n"
          ]
        },
        {
          "metadata": {
            "tags": null
          },
          "name": "stderr",
          "output_type": "stream",
          "text": [
            "\rPerturbing graph:  18%|█▊        | 38/211 [11:28<50:48, 17.62s/it]"
          ]
        },
        {
          "metadata": {
            "tags": null
          },
          "name": "stdout",
          "output_type": "stream",
          "text": [
            "GCN loss on unlabled data: 0.9239997267723083\n",
            "GCN acc on unlabled data: 0.7387071651090342\n",
            "attack loss: 0.4662564694881439\n"
          ]
        },
        {
          "metadata": {
            "tags": null
          },
          "name": "stderr",
          "output_type": "stream",
          "text": [
            "\rPerturbing graph:  18%|█▊        | 39/211 [11:45<50:19, 17.56s/it]"
          ]
        },
        {
          "metadata": {
            "tags": null
          },
          "name": "stdout",
          "output_type": "stream",
          "text": [
            "GCN loss on unlabled data: 0.9518116116523743\n",
            "GCN acc on unlabled data: 0.7445482866043613\n",
            "attack loss: 0.49022239446640015\n"
          ]
        },
        {
          "metadata": {
            "tags": null
          },
          "name": "stderr",
          "output_type": "stream",
          "text": [
            "\rPerturbing graph:  19%|█▉        | 40/211 [12:03<50:38, 17.77s/it]"
          ]
        },
        {
          "metadata": {
            "tags": null
          },
          "name": "stdout",
          "output_type": "stream",
          "text": [
            "GCN loss on unlabled data: 0.8775395154953003\n",
            "GCN acc on unlabled data: 0.7367601246105919\n",
            "attack loss: 0.44931095838546753\n"
          ]
        },
        {
          "metadata": {
            "tags": null
          },
          "name": "stderr",
          "output_type": "stream",
          "text": [
            "\rPerturbing graph:  19%|█▉        | 41/211 [12:20<49:31, 17.48s/it]"
          ]
        },
        {
          "metadata": {
            "tags": null
          },
          "name": "stdout",
          "output_type": "stream",
          "text": [
            "GCN loss on unlabled data: 0.9192476272583008\n",
            "GCN acc on unlabled data: 0.7394859813084113\n",
            "attack loss: 0.47124183177948\n"
          ]
        },
        {
          "metadata": {
            "tags": null
          },
          "name": "stderr",
          "output_type": "stream",
          "text": [
            "\rPerturbing graph:  20%|█▉        | 42/211 [12:37<49:00, 17.40s/it]"
          ]
        },
        {
          "metadata": {
            "tags": null
          },
          "name": "stdout",
          "output_type": "stream",
          "text": [
            "GCN loss on unlabled data: 0.9269368052482605\n",
            "GCN acc on unlabled data: 0.7461059190031153\n",
            "attack loss: 0.4517858028411865\n"
          ]
        },
        {
          "metadata": {
            "tags": null
          },
          "name": "stderr",
          "output_type": "stream",
          "text": [
            "\rPerturbing graph:  20%|██        | 43/211 [12:56<49:49, 17.79s/it]"
          ]
        },
        {
          "metadata": {
            "tags": null
          },
          "name": "stdout",
          "output_type": "stream",
          "text": [
            "GCN loss on unlabled data: 0.9360343217849731\n",
            "GCN acc on unlabled data: 0.7313084112149533\n",
            "attack loss: 0.4798803925514221\n"
          ]
        },
        {
          "metadata": {
            "tags": null
          },
          "name": "stderr",
          "output_type": "stream",
          "text": [
            "\rPerturbing graph:  21%|██        | 44/211 [13:13<49:08, 17.65s/it]"
          ]
        },
        {
          "metadata": {
            "tags": null
          },
          "name": "stdout",
          "output_type": "stream",
          "text": [
            "GCN loss on unlabled data: 0.9678789377212524\n",
            "GCN acc on unlabled data: 0.7207943925233645\n",
            "attack loss: 0.5067329406738281\n"
          ]
        },
        {
          "metadata": {
            "tags": null
          },
          "name": "stderr",
          "output_type": "stream",
          "text": [
            "\rPerturbing graph:  21%|██▏       | 45/211 [13:31<48:40, 17.59s/it]"
          ]
        },
        {
          "metadata": {
            "tags": null
          },
          "name": "stdout",
          "output_type": "stream",
          "text": [
            "GCN loss on unlabled data: 0.9062672853469849\n",
            "GCN acc on unlabled data: 0.7383177570093458\n",
            "attack loss: 0.45820626616477966\n"
          ]
        },
        {
          "metadata": {
            "tags": null
          },
          "name": "stderr",
          "output_type": "stream",
          "text": [
            "\rPerturbing graph:  22%|██▏       | 46/211 [13:51<50:15, 18.27s/it]"
          ]
        },
        {
          "metadata": {
            "tags": null
          },
          "name": "stdout",
          "output_type": "stream",
          "text": [
            "GCN loss on unlabled data: 0.9616945385932922\n",
            "GCN acc on unlabled data: 0.7239096573208723\n",
            "attack loss: 0.4904002845287323\n"
          ]
        },
        {
          "metadata": {
            "tags": null
          },
          "name": "stderr",
          "output_type": "stream",
          "text": [
            "\rPerturbing graph:  22%|██▏       | 47/211 [14:12<52:29, 19.21s/it]"
          ]
        },
        {
          "metadata": {
            "tags": null
          },
          "name": "stdout",
          "output_type": "stream",
          "text": [
            "GCN loss on unlabled data: 0.9447797536849976\n",
            "GCN acc on unlabled data: 0.7262461059190031\n",
            "attack loss: 0.46993348002433777\n"
          ]
        },
        {
          "metadata": {
            "tags": null
          },
          "name": "stderr",
          "output_type": "stream",
          "text": [
            "\rPerturbing graph:  23%|██▎       | 48/211 [14:31<51:59, 19.14s/it]"
          ]
        },
        {
          "metadata": {
            "tags": null
          },
          "name": "stdout",
          "output_type": "stream",
          "text": [
            "GCN loss on unlabled data: 0.9424864649772644\n",
            "GCN acc on unlabled data: 0.7375389408099688\n",
            "attack loss: 0.4808768630027771\n"
          ]
        },
        {
          "metadata": {
            "tags": null
          },
          "name": "stderr",
          "output_type": "stream",
          "text": [
            "\rPerturbing graph:  23%|██▎       | 49/211 [14:48<50:08, 18.57s/it]"
          ]
        },
        {
          "metadata": {
            "tags": null
          },
          "name": "stdout",
          "output_type": "stream",
          "text": [
            "GCN loss on unlabled data: 0.8902710676193237\n",
            "GCN acc on unlabled data: 0.75\n",
            "attack loss: 0.46316656470298767\n"
          ]
        },
        {
          "metadata": {
            "tags": null
          },
          "name": "stderr",
          "output_type": "stream",
          "text": [
            "\rPerturbing graph:  24%|██▎       | 50/211 [15:07<49:55, 18.61s/it]"
          ]
        },
        {
          "metadata": {
            "tags": null
          },
          "name": "stdout",
          "output_type": "stream",
          "text": [
            "GCN loss on unlabled data: 0.9434744119644165\n",
            "GCN acc on unlabled data: 0.7332554517133957\n",
            "attack loss: 0.4640505015850067\n"
          ]
        },
        {
          "metadata": {
            "tags": null
          },
          "name": "stderr",
          "output_type": "stream",
          "text": [
            "\rPerturbing graph:  24%|██▍       | 51/211 [15:25<48:40, 18.25s/it]"
          ]
        },
        {
          "metadata": {
            "tags": null
          },
          "name": "stdout",
          "output_type": "stream",
          "text": [
            "GCN loss on unlabled data: 0.9210667014122009\n",
            "GCN acc on unlabled data: 0.7320872274143302\n",
            "attack loss: 0.47597548365592957\n"
          ]
        },
        {
          "metadata": {
            "tags": null
          },
          "name": "stderr",
          "output_type": "stream",
          "text": [
            "\rPerturbing graph:  25%|██▍       | 52/211 [15:46<50:35, 19.09s/it]"
          ]
        },
        {
          "metadata": {
            "tags": null
          },
          "name": "stdout",
          "output_type": "stream",
          "text": [
            "GCN loss on unlabled data: 0.912930965423584\n",
            "GCN acc on unlabled data: 0.7383177570093458\n",
            "attack loss: 0.4675419330596924\n"
          ]
        },
        {
          "metadata": {
            "tags": null
          },
          "name": "stderr",
          "output_type": "stream",
          "text": [
            "\rPerturbing graph:  25%|██▌       | 53/211 [16:04<50:01, 19.00s/it]"
          ]
        },
        {
          "metadata": {
            "tags": null
          },
          "name": "stdout",
          "output_type": "stream",
          "text": [
            "GCN loss on unlabled data: 0.978233277797699\n",
            "GCN acc on unlabled data: 0.7219626168224299\n",
            "attack loss: 0.49640294909477234\n"
          ]
        },
        {
          "metadata": {
            "tags": null
          },
          "name": "stderr",
          "output_type": "stream",
          "text": [
            "\rPerturbing graph:  26%|██▌       | 54/211 [16:22<48:58, 18.72s/it]"
          ]
        },
        {
          "metadata": {
            "tags": null
          },
          "name": "stdout",
          "output_type": "stream",
          "text": [
            "GCN loss on unlabled data: 0.9550939798355103\n",
            "GCN acc on unlabled data: 0.7332554517133957\n",
            "attack loss: 0.4844508469104767\n"
          ]
        },
        {
          "metadata": {
            "tags": null
          },
          "name": "stderr",
          "output_type": "stream",
          "text": [
            "\rPerturbing graph:  26%|██▌       | 55/211 [16:41<48:46, 18.76s/it]"
          ]
        },
        {
          "metadata": {
            "tags": null
          },
          "name": "stdout",
          "output_type": "stream",
          "text": [
            "GCN loss on unlabled data: 1.0366829633712769\n",
            "GCN acc on unlabled data: 0.7305295950155763\n",
            "attack loss: 0.5426874756813049\n"
          ]
        },
        {
          "metadata": {
            "tags": null
          },
          "name": "stderr",
          "output_type": "stream",
          "text": [
            "\rPerturbing graph:  27%|██▋       | 56/211 [16:59<47:20, 18.32s/it]"
          ]
        },
        {
          "metadata": {
            "tags": null
          },
          "name": "stdout",
          "output_type": "stream",
          "text": [
            "GCN loss on unlabled data: 1.0010368824005127\n",
            "GCN acc on unlabled data: 0.7258566978193146\n",
            "attack loss: 0.5038449764251709\n"
          ]
        },
        {
          "metadata": {
            "tags": null
          },
          "name": "stderr",
          "output_type": "stream",
          "text": [
            "\rPerturbing graph:  27%|██▋       | 57/211 [17:16<46:13, 18.01s/it]"
          ]
        },
        {
          "metadata": {
            "tags": null
          },
          "name": "stdout",
          "output_type": "stream",
          "text": [
            "GCN loss on unlabled data: 0.9180912971496582\n",
            "GCN acc on unlabled data: 0.7383177570093458\n",
            "attack loss: 0.47947627305984497\n"
          ]
        },
        {
          "metadata": {
            "tags": null
          },
          "name": "stderr",
          "output_type": "stream",
          "text": [
            "\rPerturbing graph:  27%|██▋       | 58/211 [17:34<46:22, 18.18s/it]"
          ]
        },
        {
          "metadata": {
            "tags": null
          },
          "name": "stdout",
          "output_type": "stream",
          "text": [
            "GCN loss on unlabled data: 0.9779515862464905\n",
            "GCN acc on unlabled data: 0.7235202492211839\n",
            "attack loss: 0.519517183303833\n"
          ]
        },
        {
          "metadata": {
            "tags": null
          },
          "name": "stderr",
          "output_type": "stream",
          "text": [
            "\rPerturbing graph:  28%|██▊       | 59/211 [17:52<45:49, 18.09s/it]"
          ]
        },
        {
          "metadata": {
            "tags": null
          },
          "name": "stdout",
          "output_type": "stream",
          "text": [
            "GCN loss on unlabled data: 0.9798764586448669\n",
            "GCN acc on unlabled data: 0.7231308411214953\n",
            "attack loss: 0.5060132741928101\n"
          ]
        },
        {
          "metadata": {
            "tags": null
          },
          "name": "stderr",
          "output_type": "stream",
          "text": [
            "\rPerturbing graph:  28%|██▊       | 60/211 [18:12<46:44, 18.57s/it]"
          ]
        },
        {
          "metadata": {
            "tags": null
          },
          "name": "stdout",
          "output_type": "stream",
          "text": [
            "GCN loss on unlabled data: 0.9742287993431091\n",
            "GCN acc on unlabled data: 0.7239096573208723\n",
            "attack loss: 0.5037108659744263\n"
          ]
        },
        {
          "metadata": {
            "tags": null
          },
          "name": "stderr",
          "output_type": "stream",
          "text": [
            "\rPerturbing graph:  29%|██▉       | 61/211 [18:31<46:37, 18.65s/it]"
          ]
        },
        {
          "metadata": {
            "tags": null
          },
          "name": "stdout",
          "output_type": "stream",
          "text": [
            "GCN loss on unlabled data: 0.9403887391090393\n",
            "GCN acc on unlabled data: 0.7301401869158879\n",
            "attack loss: 0.5076030492782593\n"
          ]
        },
        {
          "metadata": {
            "tags": null
          },
          "name": "stderr",
          "output_type": "stream",
          "text": [
            "\rPerturbing graph:  29%|██▉       | 62/211 [18:50<46:43, 18.81s/it]"
          ]
        },
        {
          "metadata": {
            "tags": null
          },
          "name": "stdout",
          "output_type": "stream",
          "text": [
            "GCN loss on unlabled data: 0.9401919841766357\n",
            "GCN acc on unlabled data: 0.7235202492211839\n",
            "attack loss: 0.4893573522567749\n"
          ]
        },
        {
          "metadata": {
            "tags": null
          },
          "name": "stderr",
          "output_type": "stream",
          "text": [
            "\rPerturbing graph:  30%|██▉       | 63/211 [19:08<45:54, 18.61s/it]"
          ]
        },
        {
          "metadata": {
            "tags": null
          },
          "name": "stdout",
          "output_type": "stream",
          "text": [
            "GCN loss on unlabled data: 1.0723944902420044\n",
            "GCN acc on unlabled data: 0.7219626168224299\n",
            "attack loss: 0.5361779928207397\n"
          ]
        },
        {
          "metadata": {
            "tags": null
          },
          "name": "stderr",
          "output_type": "stream",
          "text": [
            "\rPerturbing graph:  30%|███       | 64/211 [19:26<45:19, 18.50s/it]"
          ]
        },
        {
          "metadata": {
            "tags": null
          },
          "name": "stdout",
          "output_type": "stream",
          "text": [
            "GCN loss on unlabled data: 0.9724923372268677\n",
            "GCN acc on unlabled data: 0.7192367601246106\n",
            "attack loss: 0.5263096690177917\n"
          ]
        },
        {
          "metadata": {
            "tags": null
          },
          "name": "stderr",
          "output_type": "stream",
          "text": [
            "\rPerturbing graph:  31%|███       | 65/211 [19:45<45:18, 18.62s/it]"
          ]
        },
        {
          "metadata": {
            "tags": null
          },
          "name": "stdout",
          "output_type": "stream",
          "text": [
            "GCN loss on unlabled data: 0.9831318855285645\n",
            "GCN acc on unlabled data: 0.7266355140186916\n",
            "attack loss: 0.4930354058742523\n"
          ]
        },
        {
          "metadata": {
            "tags": null
          },
          "name": "stderr",
          "output_type": "stream",
          "text": [
            "\rPerturbing graph:  31%|███▏      | 66/211 [20:03<44:09, 18.27s/it]"
          ]
        },
        {
          "metadata": {
            "tags": null
          },
          "name": "stdout",
          "output_type": "stream",
          "text": [
            "GCN loss on unlabled data: 0.9711030721664429\n",
            "GCN acc on unlabled data: 0.735202492211838\n",
            "attack loss: 0.517368495464325\n"
          ]
        },
        {
          "metadata": {
            "tags": null
          },
          "name": "stderr",
          "output_type": "stream",
          "text": [
            "\rPerturbing graph:  32%|███▏      | 67/211 [20:22<44:31, 18.55s/it]"
          ]
        },
        {
          "metadata": {
            "tags": null
          },
          "name": "stdout",
          "output_type": "stream",
          "text": [
            "GCN loss on unlabled data: 0.988396942615509\n",
            "GCN acc on unlabled data: 0.719626168224299\n",
            "attack loss: 0.5033214688301086\n"
          ]
        },
        {
          "metadata": {
            "tags": null
          },
          "name": "stderr",
          "output_type": "stream",
          "text": [
            "\rPerturbing graph:  32%|███▏      | 68/211 [20:40<44:03, 18.48s/it]"
          ]
        },
        {
          "metadata": {
            "tags": null
          },
          "name": "stdout",
          "output_type": "stream",
          "text": [
            "GCN loss on unlabled data: 0.9345771670341492\n",
            "GCN acc on unlabled data: 0.7336448598130841\n",
            "attack loss: 0.503556489944458\n"
          ]
        },
        {
          "metadata": {
            "tags": null
          },
          "name": "stderr",
          "output_type": "stream",
          "text": [
            "\rPerturbing graph:  33%|███▎      | 69/211 [20:59<44:05, 18.63s/it]"
          ]
        },
        {
          "metadata": {
            "tags": null
          },
          "name": "stdout",
          "output_type": "stream",
          "text": [
            "GCN loss on unlabled data: 0.9902886748313904\n",
            "GCN acc on unlabled data: 0.7262461059190031\n",
            "attack loss: 0.5044693946838379\n"
          ]
        },
        {
          "metadata": {
            "tags": null
          },
          "name": "stderr",
          "output_type": "stream",
          "text": [
            "\rPerturbing graph:  33%|███▎      | 70/211 [21:17<43:12, 18.38s/it]"
          ]
        },
        {
          "metadata": {
            "tags": null
          },
          "name": "stdout",
          "output_type": "stream",
          "text": [
            "GCN loss on unlabled data: 1.0162131786346436\n",
            "GCN acc on unlabled data: 0.7235202492211839\n",
            "attack loss: 0.52873694896698\n"
          ]
        },
        {
          "metadata": {
            "tags": null
          },
          "name": "stderr",
          "output_type": "stream",
          "text": [
            "\rPerturbing graph:  34%|███▎      | 71/211 [21:35<42:44, 18.32s/it]"
          ]
        },
        {
          "metadata": {
            "tags": null
          },
          "name": "stdout",
          "output_type": "stream",
          "text": [
            "GCN loss on unlabled data: 1.0381382703781128\n",
            "GCN acc on unlabled data: 0.7242990654205608\n",
            "attack loss: 0.5328346490859985\n"
          ]
        },
        {
          "metadata": {
            "tags": null
          },
          "name": "stderr",
          "output_type": "stream",
          "text": [
            "\rPerturbing graph:  34%|███▍      | 72/211 [21:54<42:36, 18.40s/it]"
          ]
        },
        {
          "metadata": {
            "tags": null
          },
          "name": "stdout",
          "output_type": "stream",
          "text": [
            "GCN loss on unlabled data: 1.021487832069397\n",
            "GCN acc on unlabled data: 0.7239096573208723\n",
            "attack loss: 0.5335010290145874\n"
          ]
        },
        {
          "metadata": {
            "tags": null
          },
          "name": "stderr",
          "output_type": "stream",
          "text": [
            "\rPerturbing graph:  35%|███▍      | 73/211 [22:12<42:08, 18.32s/it]"
          ]
        },
        {
          "metadata": {
            "tags": null
          },
          "name": "stdout",
          "output_type": "stream",
          "text": [
            "GCN loss on unlabled data: 1.0177080631256104\n",
            "GCN acc on unlabled data: 0.7180685358255452\n",
            "attack loss: 0.5478287935256958\n"
          ]
        },
        {
          "metadata": {
            "tags": null
          },
          "name": "stderr",
          "output_type": "stream",
          "text": [
            "\rPerturbing graph:  35%|███▌      | 74/211 [22:31<42:15, 18.51s/it]"
          ]
        },
        {
          "metadata": {
            "tags": null
          },
          "name": "stdout",
          "output_type": "stream",
          "text": [
            "GCN loss on unlabled data: 0.9786320924758911\n",
            "GCN acc on unlabled data: 0.7445482866043613\n",
            "attack loss: 0.5082569122314453\n"
          ]
        },
        {
          "metadata": {
            "tags": null
          },
          "name": "stderr",
          "output_type": "stream",
          "text": [
            "\rPerturbing graph:  36%|███▌      | 75/211 [22:49<41:47, 18.44s/it]"
          ]
        },
        {
          "metadata": {
            "tags": null
          },
          "name": "stdout",
          "output_type": "stream",
          "text": [
            "GCN loss on unlabled data: 0.9964138269424438\n",
            "GCN acc on unlabled data: 0.7223520249221184\n",
            "attack loss: 0.5226848125457764\n"
          ]
        },
        {
          "metadata": {
            "tags": null
          },
          "name": "stderr",
          "output_type": "stream",
          "text": [
            "\rPerturbing graph:  36%|███▌      | 76/211 [23:06<40:37, 18.06s/it]"
          ]
        },
        {
          "metadata": {
            "tags": null
          },
          "name": "stdout",
          "output_type": "stream",
          "text": [
            "GCN loss on unlabled data: 0.9946345090866089\n",
            "GCN acc on unlabled data: 0.7172897196261683\n",
            "attack loss: 0.5102062225341797\n"
          ]
        },
        {
          "metadata": {
            "tags": null
          },
          "name": "stderr",
          "output_type": "stream",
          "text": [
            "\rPerturbing graph:  36%|███▋      | 77/211 [23:26<41:07, 18.41s/it]"
          ]
        },
        {
          "metadata": {
            "tags": null
          },
          "name": "stdout",
          "output_type": "stream",
          "text": [
            "GCN loss on unlabled data: 0.9784095287322998\n",
            "GCN acc on unlabled data: 0.7262461059190031\n",
            "attack loss: 0.515428900718689\n"
          ]
        },
        {
          "metadata": {
            "tags": null
          },
          "name": "stderr",
          "output_type": "stream",
          "text": [
            "\rPerturbing graph:  37%|███▋      | 78/211 [23:44<40:42, 18.36s/it]"
          ]
        },
        {
          "metadata": {
            "tags": null
          },
          "name": "stdout",
          "output_type": "stream",
          "text": [
            "GCN loss on unlabled data: 0.9713780283927917\n",
            "GCN acc on unlabled data: 0.7375389408099688\n",
            "attack loss: 0.5041496753692627\n"
          ]
        },
        {
          "metadata": {
            "tags": null
          },
          "name": "stderr",
          "output_type": "stream",
          "text": [
            "\rPerturbing graph:  37%|███▋      | 79/211 [24:03<40:52, 18.58s/it]"
          ]
        },
        {
          "metadata": {
            "tags": null
          },
          "name": "stdout",
          "output_type": "stream",
          "text": [
            "GCN loss on unlabled data: 1.086783528327942\n",
            "GCN acc on unlabled data: 0.7200155763239875\n",
            "attack loss: 0.5500332713127136\n"
          ]
        },
        {
          "metadata": {
            "tags": null
          },
          "name": "stderr",
          "output_type": "stream",
          "text": [
            "\rPerturbing graph:  38%|███▊      | 80/211 [24:20<39:46, 18.22s/it]"
          ]
        },
        {
          "metadata": {
            "tags": null
          },
          "name": "stdout",
          "output_type": "stream",
          "text": [
            "GCN loss on unlabled data: 0.9849033951759338\n",
            "GCN acc on unlabled data: 0.7095015576323987\n",
            "attack loss: 0.5391985177993774\n"
          ]
        },
        {
          "metadata": {
            "tags": null
          },
          "name": "stderr",
          "output_type": "stream",
          "text": [
            "\rPerturbing graph:  38%|███▊      | 81/211 [24:39<40:03, 18.49s/it]"
          ]
        },
        {
          "metadata": {
            "tags": null
          },
          "name": "stdout",
          "output_type": "stream",
          "text": [
            "GCN loss on unlabled data: 0.9955450296401978\n",
            "GCN acc on unlabled data: 0.7122274143302181\n",
            "attack loss: 0.5380457043647766\n"
          ]
        },
        {
          "metadata": {
            "tags": null
          },
          "name": "stderr",
          "output_type": "stream",
          "text": [
            "\rPerturbing graph:  39%|███▉      | 82/211 [24:58<39:36, 18.42s/it]"
          ]
        },
        {
          "metadata": {
            "tags": null
          },
          "name": "stdout",
          "output_type": "stream",
          "text": [
            "GCN loss on unlabled data: 0.962517261505127\n",
            "GCN acc on unlabled data: 0.7176791277258567\n",
            "attack loss: 0.5185143947601318\n"
          ]
        },
        {
          "metadata": {
            "tags": null
          },
          "name": "stderr",
          "output_type": "stream",
          "text": [
            "\rPerturbing graph:  39%|███▉      | 83/211 [25:15<38:36, 18.10s/it]"
          ]
        },
        {
          "metadata": {
            "tags": null
          },
          "name": "stdout",
          "output_type": "stream",
          "text": [
            "GCN loss on unlabled data: 1.0308051109313965\n",
            "GCN acc on unlabled data: 0.7169003115264797\n",
            "attack loss: 0.5267253518104553\n"
          ]
        },
        {
          "metadata": {
            "tags": null
          },
          "name": "stderr",
          "output_type": "stream",
          "text": [
            "\rPerturbing graph:  40%|███▉      | 84/211 [25:34<38:41, 18.28s/it]"
          ]
        },
        {
          "metadata": {
            "tags": null
          },
          "name": "stdout",
          "output_type": "stream",
          "text": [
            "GCN loss on unlabled data: 1.051214575767517\n",
            "GCN acc on unlabled data: 0.7176791277258567\n",
            "attack loss: 0.5605448484420776\n"
          ]
        },
        {
          "metadata": {
            "tags": null
          },
          "name": "stderr",
          "output_type": "stream",
          "text": [
            "\rPerturbing graph:  40%|████      | 85/211 [25:55<40:19, 19.21s/it]"
          ]
        },
        {
          "metadata": {
            "tags": null
          },
          "name": "stdout",
          "output_type": "stream",
          "text": [
            "GCN loss on unlabled data: 1.0237441062927246\n",
            "GCN acc on unlabled data: 0.7110591900311527\n",
            "attack loss: 0.5253936052322388\n"
          ]
        },
        {
          "metadata": {
            "tags": null
          },
          "name": "stderr",
          "output_type": "stream",
          "text": [
            "\rPerturbing graph:  41%|████      | 86/211 [26:14<39:49, 19.12s/it]"
          ]
        },
        {
          "metadata": {
            "tags": null
          },
          "name": "stdout",
          "output_type": "stream",
          "text": [
            "GCN loss on unlabled data: 1.073614239692688\n",
            "GCN acc on unlabled data: 0.7095015576323987\n",
            "attack loss: 0.5428120493888855\n"
          ]
        },
        {
          "metadata": {
            "tags": null
          },
          "name": "stderr",
          "output_type": "stream",
          "text": [
            "\rPerturbing graph:  41%|████      | 87/211 [26:32<38:45, 18.75s/it]"
          ]
        },
        {
          "metadata": {
            "tags": null
          },
          "name": "stdout",
          "output_type": "stream",
          "text": [
            "GCN loss on unlabled data: 1.0734907388687134\n",
            "GCN acc on unlabled data: 0.7223520249221184\n",
            "attack loss: 0.571675181388855\n"
          ]
        },
        {
          "metadata": {
            "tags": null
          },
          "name": "stderr",
          "output_type": "stream",
          "text": [
            "\rPerturbing graph:  42%|████▏     | 88/211 [26:49<37:32, 18.31s/it]"
          ]
        },
        {
          "metadata": {
            "tags": null
          },
          "name": "stdout",
          "output_type": "stream",
          "text": [
            "GCN loss on unlabled data: 1.0634127855300903\n",
            "GCN acc on unlabled data: 0.7176791277258567\n",
            "attack loss: 0.5438573360443115\n"
          ]
        },
        {
          "metadata": {
            "tags": null
          },
          "name": "stderr",
          "output_type": "stream",
          "text": [
            "\rPerturbing graph:  42%|████▏     | 89/211 [27:08<37:45, 18.57s/it]"
          ]
        },
        {
          "metadata": {
            "tags": null
          },
          "name": "stdout",
          "output_type": "stream",
          "text": [
            "GCN loss on unlabled data: 1.110986590385437\n",
            "GCN acc on unlabled data: 0.7001557632398754\n",
            "attack loss: 0.5763719081878662\n"
          ]
        },
        {
          "metadata": {
            "tags": null
          },
          "name": "stderr",
          "output_type": "stream",
          "text": [
            "\rPerturbing graph:  43%|████▎     | 90/211 [27:26<36:39, 18.18s/it]"
          ]
        },
        {
          "metadata": {
            "tags": null
          },
          "name": "stdout",
          "output_type": "stream",
          "text": [
            "GCN loss on unlabled data: 1.064428448677063\n",
            "GCN acc on unlabled data: 0.7079439252336449\n",
            "attack loss: 0.5588808059692383\n"
          ]
        },
        {
          "metadata": {
            "tags": null
          },
          "name": "stderr",
          "output_type": "stream",
          "text": [
            "\rPerturbing graph:  43%|████▎     | 91/211 [27:44<36:41, 18.34s/it]"
          ]
        },
        {
          "metadata": {
            "tags": null
          },
          "name": "stdout",
          "output_type": "stream",
          "text": [
            "GCN loss on unlabled data: 1.05548095703125\n",
            "GCN acc on unlabled data: 0.7192367601246106\n",
            "attack loss: 0.5304428935050964\n"
          ]
        },
        {
          "metadata": {
            "tags": null
          },
          "name": "stderr",
          "output_type": "stream",
          "text": [
            "\rPerturbing graph:  44%|████▎     | 92/211 [28:02<36:12, 18.26s/it]"
          ]
        },
        {
          "metadata": {
            "tags": null
          },
          "name": "stdout",
          "output_type": "stream",
          "text": [
            "GCN loss on unlabled data: 1.0965138673782349\n",
            "GCN acc on unlabled data: 0.706386292834891\n",
            "attack loss: 0.5817761421203613\n"
          ]
        },
        {
          "metadata": {
            "tags": null
          },
          "name": "stderr",
          "output_type": "stream",
          "text": [
            "\rPerturbing graph:  44%|████▍     | 93/211 [28:21<35:58, 18.29s/it]"
          ]
        },
        {
          "metadata": {
            "tags": null
          },
          "name": "stdout",
          "output_type": "stream",
          "text": [
            "GCN loss on unlabled data: 0.9638830423355103\n",
            "GCN acc on unlabled data: 0.714563862928349\n",
            "attack loss: 0.5114163756370544\n"
          ]
        },
        {
          "metadata": {
            "tags": null
          },
          "name": "stderr",
          "output_type": "stream",
          "text": [
            "\rPerturbing graph:  45%|████▍     | 94/211 [28:40<36:04, 18.50s/it]"
          ]
        },
        {
          "metadata": {
            "tags": null
          },
          "name": "stdout",
          "output_type": "stream",
          "text": [
            "GCN loss on unlabled data: 1.0458183288574219\n",
            "GCN acc on unlabled data: 0.7102803738317757\n",
            "attack loss: 0.5534878373146057\n"
          ]
        },
        {
          "metadata": {
            "tags": null
          },
          "name": "stderr",
          "output_type": "stream",
          "text": [
            "\rPerturbing graph:  45%|████▌     | 95/211 [29:01<37:21, 19.32s/it]"
          ]
        },
        {
          "metadata": {
            "tags": null
          },
          "name": "stdout",
          "output_type": "stream",
          "text": [
            "GCN loss on unlabled data: 1.1208080053329468\n",
            "GCN acc on unlabled data: 0.7036604361370716\n",
            "attack loss: 0.5759131908416748\n"
          ]
        },
        {
          "metadata": {
            "tags": null
          },
          "name": "stderr",
          "output_type": "stream",
          "text": [
            "\rPerturbing graph:  45%|████▌     | 96/211 [29:23<38:17, 19.98s/it]"
          ]
        },
        {
          "metadata": {
            "tags": null
          },
          "name": "stdout",
          "output_type": "stream",
          "text": [
            "GCN loss on unlabled data: 1.1072994470596313\n",
            "GCN acc on unlabled data: 0.7122274143302181\n",
            "attack loss: 0.5861051082611084\n"
          ]
        },
        {
          "metadata": {
            "tags": null
          },
          "name": "stderr",
          "output_type": "stream",
          "text": [
            "\rPerturbing graph:  46%|████▌     | 97/211 [29:43<38:27, 20.24s/it]"
          ]
        },
        {
          "metadata": {
            "tags": null
          },
          "name": "stdout",
          "output_type": "stream",
          "text": [
            "GCN loss on unlabled data: 1.1080242395401\n",
            "GCN acc on unlabled data: 0.7032710280373832\n",
            "attack loss: 0.5776851773262024\n"
          ]
        },
        {
          "metadata": {
            "tags": null
          },
          "name": "stderr",
          "output_type": "stream",
          "text": [
            "\rPerturbing graph:  46%|████▋     | 98/211 [30:03<38:00, 20.18s/it]"
          ]
        },
        {
          "metadata": {
            "tags": null
          },
          "name": "stdout",
          "output_type": "stream",
          "text": [
            "GCN loss on unlabled data: 1.07338547706604\n",
            "GCN acc on unlabled data: 0.7009345794392523\n",
            "attack loss: 0.547850489616394\n"
          ]
        },
        {
          "metadata": {
            "tags": null
          },
          "name": "stderr",
          "output_type": "stream",
          "text": [
            "\rPerturbing graph:  47%|████▋     | 99/211 [30:25<38:18, 20.52s/it]"
          ]
        },
        {
          "metadata": {
            "tags": null
          },
          "name": "stdout",
          "output_type": "stream",
          "text": [
            "GCN loss on unlabled data: 1.0734761953353882\n",
            "GCN acc on unlabled data: 0.7040498442367601\n",
            "attack loss: 0.5502326488494873\n"
          ]
        },
        {
          "metadata": {
            "tags": null
          },
          "name": "stderr",
          "output_type": "stream",
          "text": [
            "\rPerturbing graph:  47%|████▋     | 100/211 [30:44<37:01, 20.01s/it]"
          ]
        },
        {
          "metadata": {
            "tags": null
          },
          "name": "stdout",
          "output_type": "stream",
          "text": [
            "GCN loss on unlabled data: 1.2114055156707764\n",
            "GCN acc on unlabled data: 0.6830218068535826\n",
            "attack loss: 0.6169571280479431\n"
          ]
        },
        {
          "metadata": {
            "tags": null
          },
          "name": "stderr",
          "output_type": "stream",
          "text": [
            "\rPerturbing graph:  48%|████▊     | 101/211 [31:05<37:22, 20.39s/it]"
          ]
        },
        {
          "metadata": {
            "tags": null
          },
          "name": "stdout",
          "output_type": "stream",
          "text": [
            "GCN loss on unlabled data: 1.0987626314163208\n",
            "GCN acc on unlabled data: 0.706386292834891\n",
            "attack loss: 0.5622718334197998\n"
          ]
        },
        {
          "metadata": {
            "tags": null
          },
          "name": "stderr",
          "output_type": "stream",
          "text": [
            "\rPerturbing graph:  48%|████▊     | 102/211 [31:27<37:57, 20.90s/it]"
          ]
        },
        {
          "metadata": {
            "tags": null
          },
          "name": "stdout",
          "output_type": "stream",
          "text": [
            "GCN loss on unlabled data: 1.0350934267044067\n",
            "GCN acc on unlabled data: 0.7052180685358256\n",
            "attack loss: 0.5343036651611328\n"
          ]
        },
        {
          "metadata": {
            "tags": null
          },
          "name": "stderr",
          "output_type": "stream",
          "text": [
            "\rPerturbing graph:  49%|████▉     | 103/211 [31:46<36:44, 20.41s/it]"
          ]
        },
        {
          "metadata": {
            "tags": null
          },
          "name": "stdout",
          "output_type": "stream",
          "text": [
            "GCN loss on unlabled data: 1.0285862684249878\n",
            "GCN acc on unlabled data: 0.7157320872274143\n",
            "attack loss: 0.5468306541442871\n"
          ]
        },
        {
          "metadata": {
            "tags": null
          },
          "name": "stderr",
          "output_type": "stream",
          "text": [
            "\rPerturbing graph:  49%|████▉     | 104/211 [32:06<36:17, 20.35s/it]"
          ]
        },
        {
          "metadata": {
            "tags": null
          },
          "name": "stdout",
          "output_type": "stream",
          "text": [
            "GCN loss on unlabled data: 1.102883219718933\n",
            "GCN acc on unlabled data: 0.7126168224299065\n",
            "attack loss: 0.5746243000030518\n"
          ]
        },
        {
          "metadata": {
            "tags": null
          },
          "name": "stderr",
          "output_type": "stream",
          "text": [
            "\rPerturbing graph:  50%|████▉     | 105/211 [32:26<35:45, 20.24s/it]"
          ]
        },
        {
          "metadata": {
            "tags": null
          },
          "name": "stdout",
          "output_type": "stream",
          "text": [
            "GCN loss on unlabled data: 1.0614227056503296\n",
            "GCN acc on unlabled data: 0.7044392523364486\n",
            "attack loss: 0.570472240447998\n"
          ]
        },
        {
          "metadata": {
            "tags": null
          },
          "name": "stderr",
          "output_type": "stream",
          "text": [
            "\rPerturbing graph:  50%|█████     | 106/211 [32:46<35:04, 20.04s/it]"
          ]
        },
        {
          "metadata": {
            "tags": null
          },
          "name": "stdout",
          "output_type": "stream",
          "text": [
            "GCN loss on unlabled data: 1.1610771417617798\n",
            "GCN acc on unlabled data: 0.706386292834891\n",
            "attack loss: 0.6004474759101868\n"
          ]
        },
        {
          "metadata": {
            "tags": null
          },
          "name": "stderr",
          "output_type": "stream",
          "text": [
            "\rPerturbing graph:  51%|█████     | 107/211 [33:03<33:20, 19.23s/it]"
          ]
        },
        {
          "metadata": {
            "tags": null
          },
          "name": "stdout",
          "output_type": "stream",
          "text": [
            "GCN loss on unlabled data: 1.132773756980896\n",
            "GCN acc on unlabled data: 0.6927570093457944\n",
            "attack loss: 0.5702170133590698\n"
          ]
        },
        {
          "metadata": {
            "tags": null
          },
          "name": "stderr",
          "output_type": "stream",
          "text": [
            "\rPerturbing graph:  51%|█████     | 108/211 [33:21<32:27, 18.91s/it]"
          ]
        },
        {
          "metadata": {
            "tags": null
          },
          "name": "stdout",
          "output_type": "stream",
          "text": [
            "GCN loss on unlabled data: 1.1424459218978882\n",
            "GCN acc on unlabled data: 0.690809968847352\n",
            "attack loss: 0.5704037547111511\n"
          ]
        },
        {
          "metadata": {
            "tags": null
          },
          "name": "stderr",
          "output_type": "stream",
          "text": [
            "\rPerturbing graph:  52%|█████▏    | 109/211 [33:40<31:42, 18.65s/it]"
          ]
        },
        {
          "metadata": {
            "tags": null
          },
          "name": "stdout",
          "output_type": "stream",
          "text": [
            "GCN loss on unlabled data: 1.07902193069458\n",
            "GCN acc on unlabled data: 0.7040498442367601\n",
            "attack loss: 0.5675598978996277\n"
          ]
        },
        {
          "metadata": {
            "tags": null
          },
          "name": "stderr",
          "output_type": "stream",
          "text": [
            "\rPerturbing graph:  52%|█████▏    | 110/211 [33:57<30:44, 18.26s/it]"
          ]
        },
        {
          "metadata": {
            "tags": null
          },
          "name": "stdout",
          "output_type": "stream",
          "text": [
            "GCN loss on unlabled data: 1.148457407951355\n",
            "GCN acc on unlabled data: 0.6939252336448598\n",
            "attack loss: 0.6078289151191711\n"
          ]
        },
        {
          "metadata": {
            "tags": null
          },
          "name": "stderr",
          "output_type": "stream",
          "text": [
            "\rPerturbing graph:  53%|█████▎    | 111/211 [34:16<30:44, 18.45s/it]"
          ]
        },
        {
          "metadata": {
            "tags": null
          },
          "name": "stdout",
          "output_type": "stream",
          "text": [
            "GCN loss on unlabled data: 1.090213418006897\n",
            "GCN acc on unlabled data: 0.697429906542056\n",
            "attack loss: 0.5761091709136963\n"
          ]
        },
        {
          "metadata": {
            "tags": null
          },
          "name": "stderr",
          "output_type": "stream",
          "text": [
            "\rPerturbing graph:  53%|█████▎    | 112/211 [34:34<30:12, 18.31s/it]"
          ]
        },
        {
          "metadata": {
            "tags": null
          },
          "name": "stdout",
          "output_type": "stream",
          "text": [
            "GCN loss on unlabled data: 1.2281025648117065\n",
            "GCN acc on unlabled data: 0.6779595015576324\n",
            "attack loss: 0.6427122354507446\n"
          ]
        },
        {
          "metadata": {
            "tags": null
          },
          "name": "stderr",
          "output_type": "stream",
          "text": [
            "\rPerturbing graph:  54%|█████▎    | 113/211 [34:52<30:00, 18.37s/it]"
          ]
        },
        {
          "metadata": {
            "tags": null
          },
          "name": "stdout",
          "output_type": "stream",
          "text": [
            "GCN loss on unlabled data: 1.2032651901245117\n",
            "GCN acc on unlabled data: 0.6876947040498442\n",
            "attack loss: 0.6208667755126953\n"
          ]
        },
        {
          "metadata": {
            "tags": null
          },
          "name": "stderr",
          "output_type": "stream",
          "text": [
            "\rPerturbing graph:  54%|█████▍    | 114/211 [35:10<29:26, 18.21s/it]"
          ]
        },
        {
          "metadata": {
            "tags": null
          },
          "name": "stdout",
          "output_type": "stream",
          "text": [
            "GCN loss on unlabled data: 1.1566435098648071\n",
            "GCN acc on unlabled data: 0.6911993769470405\n",
            "attack loss: 0.5851576924324036\n"
          ]
        },
        {
          "metadata": {
            "tags": null
          },
          "name": "stderr",
          "output_type": "stream",
          "text": [
            "\rPerturbing graph:  55%|█████▍    | 115/211 [35:28<28:56, 18.09s/it]"
          ]
        },
        {
          "metadata": {
            "tags": null
          },
          "name": "stdout",
          "output_type": "stream",
          "text": [
            "GCN loss on unlabled data: 1.142451286315918\n",
            "GCN acc on unlabled data: 0.7024922118380063\n",
            "attack loss: 0.5824014544487\n"
          ]
        },
        {
          "metadata": {
            "tags": null
          },
          "name": "stderr",
          "output_type": "stream",
          "text": [
            "\rPerturbing graph:  55%|█████▍    | 116/211 [35:47<29:17, 18.50s/it]"
          ]
        },
        {
          "metadata": {
            "tags": null
          },
          "name": "stdout",
          "output_type": "stream",
          "text": [
            "GCN loss on unlabled data: 1.2300481796264648\n",
            "GCN acc on unlabled data: 0.690809968847352\n",
            "attack loss: 0.6340925693511963\n"
          ]
        },
        {
          "metadata": {
            "tags": null
          },
          "name": "stderr",
          "output_type": "stream",
          "text": [
            "\rPerturbing graph:  55%|█████▌    | 117/211 [36:09<30:26, 19.43s/it]"
          ]
        },
        {
          "metadata": {
            "tags": null
          },
          "name": "stdout",
          "output_type": "stream",
          "text": [
            "GCN loss on unlabled data: 1.1428226232528687\n",
            "GCN acc on unlabled data: 0.684190031152648\n",
            "attack loss: 0.5715022683143616\n"
          ]
        },
        {
          "metadata": {
            "tags": null
          },
          "name": "stderr",
          "output_type": "stream",
          "text": [
            "\rPerturbing graph:  56%|█████▌    | 118/211 [36:28<29:58, 19.34s/it]"
          ]
        },
        {
          "metadata": {
            "tags": null
          },
          "name": "stdout",
          "output_type": "stream",
          "text": [
            "GCN loss on unlabled data: 1.2039459943771362\n",
            "GCN acc on unlabled data: 0.6802959501557633\n",
            "attack loss: 0.6166358590126038\n"
          ]
        },
        {
          "metadata": {
            "tags": null
          },
          "name": "stderr",
          "output_type": "stream",
          "text": [
            "\rPerturbing graph:  56%|█████▋    | 119/211 [36:46<29:00, 18.92s/it]"
          ]
        },
        {
          "metadata": {
            "tags": null
          },
          "name": "stdout",
          "output_type": "stream",
          "text": [
            "GCN loss on unlabled data: 1.1788734197616577\n",
            "GCN acc on unlabled data: 0.6900311526479751\n",
            "attack loss: 0.5854735374450684\n"
          ]
        },
        {
          "metadata": {
            "tags": null
          },
          "name": "stderr",
          "output_type": "stream",
          "text": [
            "\rPerturbing graph:  57%|█████▋    | 120/211 [37:04<28:16, 18.64s/it]"
          ]
        },
        {
          "metadata": {
            "tags": null
          },
          "name": "stdout",
          "output_type": "stream",
          "text": [
            "GCN loss on unlabled data: 1.2307599782943726\n",
            "GCN acc on unlabled data: 0.6880841121495327\n",
            "attack loss: 0.6426621675491333\n"
          ]
        },
        {
          "metadata": {
            "tags": null
          },
          "name": "stderr",
          "output_type": "stream",
          "text": [
            "\rPerturbing graph:  57%|█████▋    | 121/211 [37:24<28:46, 19.18s/it]"
          ]
        },
        {
          "metadata": {
            "tags": null
          },
          "name": "stdout",
          "output_type": "stream",
          "text": [
            "GCN loss on unlabled data: 1.187972068786621\n",
            "GCN acc on unlabled data: 0.6830218068535826\n",
            "attack loss: 0.6120949983596802\n"
          ]
        },
        {
          "metadata": {
            "tags": null
          },
          "name": "stderr",
          "output_type": "stream",
          "text": [
            "\rPerturbing graph:  58%|█████▊    | 122/211 [37:45<29:14, 19.71s/it]"
          ]
        },
        {
          "metadata": {
            "tags": null
          },
          "name": "stdout",
          "output_type": "stream",
          "text": [
            "GCN loss on unlabled data: 1.1913597583770752\n",
            "GCN acc on unlabled data: 0.7048286604361371\n",
            "attack loss: 0.6293574571609497\n"
          ]
        },
        {
          "metadata": {
            "tags": null
          },
          "name": "stderr",
          "output_type": "stream",
          "text": [
            "\rPerturbing graph:  58%|█████▊    | 123/211 [38:05<28:56, 19.73s/it]"
          ]
        },
        {
          "metadata": {
            "tags": null
          },
          "name": "stdout",
          "output_type": "stream",
          "text": [
            "GCN loss on unlabled data: 1.1790077686309814\n",
            "GCN acc on unlabled data: 0.7095015576323987\n",
            "attack loss: 0.5953390598297119\n"
          ]
        },
        {
          "metadata": {
            "tags": null
          },
          "name": "stderr",
          "output_type": "stream",
          "text": [
            "\rPerturbing graph:  59%|█████▉    | 124/211 [38:26<29:14, 20.17s/it]"
          ]
        },
        {
          "metadata": {
            "tags": null
          },
          "name": "stdout",
          "output_type": "stream",
          "text": [
            "GCN loss on unlabled data: 1.2072466611862183\n",
            "GCN acc on unlabled data: 0.6919781931464174\n",
            "attack loss: 0.6302610039710999\n"
          ]
        },
        {
          "metadata": {
            "tags": null
          },
          "name": "stderr",
          "output_type": "stream",
          "text": [
            "\rPerturbing graph:  59%|█████▉    | 125/211 [38:48<29:25, 20.53s/it]"
          ]
        },
        {
          "metadata": {
            "tags": null
          },
          "name": "stdout",
          "output_type": "stream",
          "text": [
            "GCN loss on unlabled data: 1.1701771020889282\n",
            "GCN acc on unlabled data: 0.6857476635514018\n",
            "attack loss: 0.6331386566162109\n"
          ]
        },
        {
          "metadata": {
            "tags": null
          },
          "name": "stderr",
          "output_type": "stream",
          "text": [
            "\rPerturbing graph:  60%|█████▉    | 126/211 [39:07<28:41, 20.25s/it]"
          ]
        },
        {
          "metadata": {
            "tags": null
          },
          "name": "stdout",
          "output_type": "stream",
          "text": [
            "GCN loss on unlabled data: 1.224865436553955\n",
            "GCN acc on unlabled data: 0.6950934579439252\n",
            "attack loss: 0.6358689665794373\n"
          ]
        },
        {
          "metadata": {
            "tags": null
          },
          "name": "stderr",
          "output_type": "stream",
          "text": [
            "\rPerturbing graph:  60%|██████    | 127/211 [39:29<28:55, 20.66s/it]"
          ]
        },
        {
          "metadata": {
            "tags": null
          },
          "name": "stdout",
          "output_type": "stream",
          "text": [
            "GCN loss on unlabled data: 1.0815508365631104\n",
            "GCN acc on unlabled data: 0.698208722741433\n",
            "attack loss: 0.5733799934387207\n"
          ]
        },
        {
          "metadata": {
            "tags": null
          },
          "name": "stderr",
          "output_type": "stream",
          "text": [
            "\rPerturbing graph:  61%|██████    | 128/211 [39:50<28:37, 20.69s/it]"
          ]
        },
        {
          "metadata": {
            "tags": null
          },
          "name": "stdout",
          "output_type": "stream",
          "text": [
            "GCN loss on unlabled data: 1.1607331037521362\n",
            "GCN acc on unlabled data: 0.6939252336448598\n",
            "attack loss: 0.5869746804237366\n"
          ]
        },
        {
          "metadata": {
            "tags": null
          },
          "name": "stderr",
          "output_type": "stream",
          "text": [
            "\rPerturbing graph:  61%|██████    | 129/211 [40:11<28:39, 20.97s/it]"
          ]
        },
        {
          "metadata": {
            "tags": null
          },
          "name": "stdout",
          "output_type": "stream",
          "text": [
            "GCN loss on unlabled data: 1.1917214393615723\n",
            "GCN acc on unlabled data: 0.6838006230529595\n",
            "attack loss: 0.6135602593421936\n"
          ]
        },
        {
          "metadata": {
            "tags": null
          },
          "name": "stderr",
          "output_type": "stream",
          "text": [
            "\rPerturbing graph:  62%|██████▏   | 130/211 [40:31<27:45, 20.56s/it]"
          ]
        },
        {
          "metadata": {
            "tags": null
          },
          "name": "stdout",
          "output_type": "stream",
          "text": [
            "GCN loss on unlabled data: 1.245422601699829\n",
            "GCN acc on unlabled data: 0.6795171339563862\n",
            "attack loss: 0.660466730594635\n"
          ]
        },
        {
          "metadata": {
            "tags": null
          },
          "name": "stderr",
          "output_type": "stream",
          "text": [
            "\rPerturbing graph:  62%|██████▏   | 131/211 [40:51<27:23, 20.55s/it]"
          ]
        },
        {
          "metadata": {
            "tags": null
          },
          "name": "stdout",
          "output_type": "stream",
          "text": [
            "GCN loss on unlabled data: 1.2352732419967651\n",
            "GCN acc on unlabled data: 0.684190031152648\n",
            "attack loss: 0.6210535168647766\n"
          ]
        },
        {
          "metadata": {
            "tags": null
          },
          "name": "stderr",
          "output_type": "stream",
          "text": [
            "\rPerturbing graph:  63%|██████▎   | 132/211 [41:13<27:18, 20.73s/it]"
          ]
        },
        {
          "metadata": {
            "tags": null
          },
          "name": "stdout",
          "output_type": "stream",
          "text": [
            "GCN loss on unlabled data: 1.258535385131836\n",
            "GCN acc on unlabled data: 0.6612149532710281\n",
            "attack loss: 0.6393239498138428\n"
          ]
        },
        {
          "metadata": {
            "tags": null
          },
          "name": "stderr",
          "output_type": "stream",
          "text": [
            "\rPerturbing graph:  63%|██████▎   | 133/211 [41:34<27:10, 20.90s/it]"
          ]
        },
        {
          "metadata": {
            "tags": null
          },
          "name": "stdout",
          "output_type": "stream",
          "text": [
            "GCN loss on unlabled data: 1.2372397184371948\n",
            "GCN acc on unlabled data: 0.6740654205607477\n",
            "attack loss: 0.6415389776229858\n"
          ]
        },
        {
          "metadata": {
            "tags": null
          },
          "name": "stderr",
          "output_type": "stream",
          "text": [
            "\rPerturbing graph:  64%|██████▎   | 134/211 [41:55<26:55, 20.98s/it]"
          ]
        },
        {
          "metadata": {
            "tags": null
          },
          "name": "stdout",
          "output_type": "stream",
          "text": [
            "GCN loss on unlabled data: 1.3076751232147217\n",
            "GCN acc on unlabled data: 0.6725077881619937\n",
            "attack loss: 0.6927175521850586\n"
          ]
        },
        {
          "metadata": {
            "tags": null
          },
          "name": "stderr",
          "output_type": "stream",
          "text": [
            "\rPerturbing graph:  64%|██████▍   | 135/211 [42:15<26:06, 20.61s/it]"
          ]
        },
        {
          "metadata": {
            "tags": null
          },
          "name": "stdout",
          "output_type": "stream",
          "text": [
            "GCN loss on unlabled data: 1.2888214588165283\n",
            "GCN acc on unlabled data: 0.6806853582554517\n",
            "attack loss: 0.6670678853988647\n"
          ]
        },
        {
          "metadata": {
            "tags": null
          },
          "name": "stderr",
          "output_type": "stream",
          "text": [
            "\rPerturbing graph:  64%|██████▍   | 136/211 [42:35<25:27, 20.36s/it]"
          ]
        },
        {
          "metadata": {
            "tags": null
          },
          "name": "stdout",
          "output_type": "stream",
          "text": [
            "GCN loss on unlabled data: 1.2052111625671387\n",
            "GCN acc on unlabled data: 0.6709501557632399\n",
            "attack loss: 0.6417589783668518\n"
          ]
        },
        {
          "metadata": {
            "tags": null
          },
          "name": "stderr",
          "output_type": "stream",
          "text": [
            "\rPerturbing graph:  65%|██████▍   | 137/211 [42:54<24:55, 20.21s/it]"
          ]
        },
        {
          "metadata": {
            "tags": null
          },
          "name": "stdout",
          "output_type": "stream",
          "text": [
            "GCN loss on unlabled data: 1.2620805501937866\n",
            "GCN acc on unlabled data: 0.6783489096573209\n",
            "attack loss: 0.6233898997306824\n"
          ]
        },
        {
          "metadata": {
            "tags": null
          },
          "name": "stderr",
          "output_type": "stream",
          "text": [
            "\rPerturbing graph:  65%|██████▌   | 138/211 [43:15<24:42, 20.31s/it]"
          ]
        },
        {
          "metadata": {
            "tags": null
          },
          "name": "stdout",
          "output_type": "stream",
          "text": [
            "GCN loss on unlabled data: 1.2491086721420288\n",
            "GCN acc on unlabled data: 0.6943146417445483\n",
            "attack loss: 0.6424511671066284\n"
          ]
        },
        {
          "metadata": {
            "tags": null
          },
          "name": "stderr",
          "output_type": "stream",
          "text": [
            "\rPerturbing graph:  66%|██████▌   | 139/211 [43:36<24:47, 20.65s/it]"
          ]
        },
        {
          "metadata": {
            "tags": null
          },
          "name": "stdout",
          "output_type": "stream",
          "text": [
            "GCN loss on unlabled data: 1.3131003379821777\n",
            "GCN acc on unlabled data: 0.6612149532710281\n",
            "attack loss: 0.6933245658874512\n"
          ]
        },
        {
          "metadata": {
            "tags": null
          },
          "name": "stderr",
          "output_type": "stream",
          "text": [
            "\rPerturbing graph:  66%|██████▋   | 140/211 [43:56<24:06, 20.38s/it]"
          ]
        },
        {
          "metadata": {
            "tags": null
          },
          "name": "stdout",
          "output_type": "stream",
          "text": [
            "GCN loss on unlabled data: 1.3185276985168457\n",
            "GCN acc on unlabled data: 0.6600467289719626\n",
            "attack loss: 0.7100780606269836\n"
          ]
        },
        {
          "metadata": {
            "tags": null
          },
          "name": "stderr",
          "output_type": "stream",
          "text": [
            "\rPerturbing graph:  67%|██████▋   | 141/211 [44:17<23:49, 20.41s/it]"
          ]
        },
        {
          "metadata": {
            "tags": null
          },
          "name": "stdout",
          "output_type": "stream",
          "text": [
            "GCN loss on unlabled data: 1.316300392150879\n",
            "GCN acc on unlabled data: 0.6697819314641744\n",
            "attack loss: 0.6810430288314819\n"
          ]
        },
        {
          "metadata": {
            "tags": null
          },
          "name": "stderr",
          "output_type": "stream",
          "text": [
            "\rPerturbing graph:  67%|██████▋   | 142/211 [44:36<23:00, 20.01s/it]"
          ]
        },
        {
          "metadata": {
            "tags": null
          },
          "name": "stdout",
          "output_type": "stream",
          "text": [
            "GCN loss on unlabled data: 1.2397372722625732\n",
            "GCN acc on unlabled data: 0.6861370716510904\n",
            "attack loss: 0.6330466270446777\n"
          ]
        },
        {
          "metadata": {
            "tags": null
          },
          "name": "stderr",
          "output_type": "stream",
          "text": [
            "\rPerturbing graph:  68%|██████▊   | 143/211 [44:56<22:44, 20.06s/it]"
          ]
        },
        {
          "metadata": {
            "tags": null
          },
          "name": "stdout",
          "output_type": "stream",
          "text": [
            "GCN loss on unlabled data: 1.2408161163330078\n",
            "GCN acc on unlabled data: 0.6822429906542056\n",
            "attack loss: 0.6517510414123535\n"
          ]
        },
        {
          "metadata": {
            "tags": null
          },
          "name": "stderr",
          "output_type": "stream",
          "text": [
            "\rPerturbing graph:  68%|██████▊   | 144/211 [45:17<22:34, 20.22s/it]"
          ]
        },
        {
          "metadata": {
            "tags": null
          },
          "name": "stdout",
          "output_type": "stream",
          "text": [
            "GCN loss on unlabled data: 1.2067577838897705\n",
            "GCN acc on unlabled data: 0.6701713395638629\n",
            "attack loss: 0.6516027450561523\n"
          ]
        },
        {
          "metadata": {
            "tags": null
          },
          "name": "stderr",
          "output_type": "stream",
          "text": [
            "\rPerturbing graph:  69%|██████▊   | 145/211 [45:38<22:35, 20.54s/it]"
          ]
        },
        {
          "metadata": {
            "tags": null
          },
          "name": "stdout",
          "output_type": "stream",
          "text": [
            "GCN loss on unlabled data: 1.241870403289795\n",
            "GCN acc on unlabled data: 0.6721183800623053\n",
            "attack loss: 0.6473857164382935\n"
          ]
        },
        {
          "metadata": {
            "tags": null
          },
          "name": "stderr",
          "output_type": "stream",
          "text": [
            "\rPerturbing graph:  69%|██████▉   | 146/211 [46:01<23:01, 21.25s/it]"
          ]
        },
        {
          "metadata": {
            "tags": null
          },
          "name": "stdout",
          "output_type": "stream",
          "text": [
            "GCN loss on unlabled data: 1.2673556804656982\n",
            "GCN acc on unlabled data: 0.6666666666666666\n",
            "attack loss: 0.6605339050292969\n"
          ]
        },
        {
          "metadata": {
            "tags": null
          },
          "name": "stderr",
          "output_type": "stream",
          "text": [
            "\rPerturbing graph:  70%|██████▉   | 147/211 [46:22<22:34, 21.16s/it]"
          ]
        },
        {
          "metadata": {
            "tags": null
          },
          "name": "stdout",
          "output_type": "stream",
          "text": [
            "GCN loss on unlabled data: 1.2564868927001953\n",
            "GCN acc on unlabled data: 0.6616043613707165\n",
            "attack loss: 0.6532506942749023\n"
          ]
        },
        {
          "metadata": {
            "tags": null
          },
          "name": "stderr",
          "output_type": "stream",
          "text": [
            "\rPerturbing graph:  70%|███████   | 148/211 [46:42<21:50, 20.80s/it]"
          ]
        },
        {
          "metadata": {
            "tags": null
          },
          "name": "stdout",
          "output_type": "stream",
          "text": [
            "GCN loss on unlabled data: 1.3055825233459473\n",
            "GCN acc on unlabled data: 0.6740654205607477\n",
            "attack loss: 0.6887156963348389\n"
          ]
        },
        {
          "metadata": {
            "tags": null
          },
          "name": "stderr",
          "output_type": "stream",
          "text": [
            "\rPerturbing graph:  71%|███████   | 149/211 [46:59<20:30, 19.85s/it]"
          ]
        },
        {
          "metadata": {
            "tags": null
          },
          "name": "stdout",
          "output_type": "stream",
          "text": [
            "GCN loss on unlabled data: 1.256698727607727\n",
            "GCN acc on unlabled data: 0.6791277258566978\n",
            "attack loss: 0.6516593098640442\n"
          ]
        },
        {
          "metadata": {
            "tags": null
          },
          "name": "stderr",
          "output_type": "stream",
          "text": [
            "\rPerturbing graph:  71%|███████   | 150/211 [47:19<20:03, 19.73s/it]"
          ]
        },
        {
          "metadata": {
            "tags": null
          },
          "name": "stdout",
          "output_type": "stream",
          "text": [
            "GCN loss on unlabled data: 1.1929514408111572\n",
            "GCN acc on unlabled data: 0.6838006230529595\n",
            "attack loss: 0.6486965417861938\n"
          ]
        },
        {
          "metadata": {
            "tags": null
          },
          "name": "stderr",
          "output_type": "stream",
          "text": [
            "\rPerturbing graph:  72%|███████▏  | 151/211 [47:37<19:12, 19.21s/it]"
          ]
        },
        {
          "metadata": {
            "tags": null
          },
          "name": "stdout",
          "output_type": "stream",
          "text": [
            "GCN loss on unlabled data: 1.3037596940994263\n",
            "GCN acc on unlabled data: 0.6635514018691588\n",
            "attack loss: 0.6885138750076294\n"
          ]
        },
        {
          "metadata": {
            "tags": null
          },
          "name": "stderr",
          "output_type": "stream",
          "text": [
            "\rPerturbing graph:  72%|███████▏  | 152/211 [47:56<18:46, 19.10s/it]"
          ]
        },
        {
          "metadata": {
            "tags": null
          },
          "name": "stdout",
          "output_type": "stream",
          "text": [
            "GCN loss on unlabled data: 1.309859275817871\n",
            "GCN acc on unlabled data: 0.6662772585669782\n",
            "attack loss: 0.6752909421920776\n"
          ]
        },
        {
          "metadata": {
            "tags": null
          },
          "name": "stderr",
          "output_type": "stream",
          "text": [
            "\rPerturbing graph:  73%|███████▎  | 153/211 [48:14<18:16, 18.90s/it]"
          ]
        },
        {
          "metadata": {
            "tags": null
          },
          "name": "stdout",
          "output_type": "stream",
          "text": [
            "GCN loss on unlabled data: 1.3096153736114502\n",
            "GCN acc on unlabled data: 0.6666666666666666\n",
            "attack loss: 0.6775698065757751\n"
          ]
        },
        {
          "metadata": {
            "tags": null
          },
          "name": "stderr",
          "output_type": "stream",
          "text": [
            "\rPerturbing graph:  73%|███████▎  | 154/211 [48:32<17:40, 18.60s/it]"
          ]
        },
        {
          "metadata": {
            "tags": null
          },
          "name": "stdout",
          "output_type": "stream",
          "text": [
            "GCN loss on unlabled data: 1.2395851612091064\n",
            "GCN acc on unlabled data: 0.6822429906542056\n",
            "attack loss: 0.6716273427009583\n"
          ]
        },
        {
          "metadata": {
            "tags": null
          },
          "name": "stderr",
          "output_type": "stream",
          "text": [
            "\rPerturbing graph:  73%|███████▎  | 155/211 [48:51<17:27, 18.70s/it]"
          ]
        },
        {
          "metadata": {
            "tags": null
          },
          "name": "stdout",
          "output_type": "stream",
          "text": [
            "GCN loss on unlabled data: 1.2127726078033447\n",
            "GCN acc on unlabled data: 0.6783489096573209\n",
            "attack loss: 0.6166962385177612\n"
          ]
        },
        {
          "metadata": {
            "tags": null
          },
          "name": "stderr",
          "output_type": "stream",
          "text": [
            "\rPerturbing graph:  74%|███████▍  | 156/211 [49:08<16:47, 18.32s/it]"
          ]
        },
        {
          "metadata": {
            "tags": null
          },
          "name": "stdout",
          "output_type": "stream",
          "text": [
            "GCN loss on unlabled data: 1.1740056276321411\n",
            "GCN acc on unlabled data: 0.6888629283489096\n",
            "attack loss: 0.625155508518219\n"
          ]
        },
        {
          "metadata": {
            "tags": null
          },
          "name": "stderr",
          "output_type": "stream",
          "text": [
            "\rPerturbing graph:  74%|███████▍  | 157/211 [49:28<16:44, 18.60s/it]"
          ]
        },
        {
          "metadata": {
            "tags": null
          },
          "name": "stdout",
          "output_type": "stream",
          "text": [
            "GCN loss on unlabled data: 1.2308446168899536\n",
            "GCN acc on unlabled data: 0.6806853582554517\n",
            "attack loss: 0.6454304456710815\n"
          ]
        },
        {
          "metadata": {
            "tags": null
          },
          "name": "stderr",
          "output_type": "stream",
          "text": [
            "\rPerturbing graph:  75%|███████▍  | 158/211 [49:45<16:07, 18.26s/it]"
          ]
        },
        {
          "metadata": {
            "tags": null
          },
          "name": "stdout",
          "output_type": "stream",
          "text": [
            "GCN loss on unlabled data: 1.3213484287261963\n",
            "GCN acc on unlabled data: 0.6752336448598131\n",
            "attack loss: 0.6731448173522949\n"
          ]
        },
        {
          "metadata": {
            "tags": null
          },
          "name": "stderr",
          "output_type": "stream",
          "text": [
            "\rPerturbing graph:  75%|███████▌  | 159/211 [50:03<15:41, 18.10s/it]"
          ]
        },
        {
          "metadata": {
            "tags": null
          },
          "name": "stdout",
          "output_type": "stream",
          "text": [
            "GCN loss on unlabled data: 1.234311819076538\n",
            "GCN acc on unlabled data: 0.6752336448598131\n",
            "attack loss: 0.6477519869804382\n"
          ]
        },
        {
          "metadata": {
            "tags": null
          },
          "name": "stderr",
          "output_type": "stream",
          "text": [
            "\rPerturbing graph:  76%|███████▌  | 160/211 [50:22<15:34, 18.33s/it]"
          ]
        },
        {
          "metadata": {
            "tags": null
          },
          "name": "stdout",
          "output_type": "stream",
          "text": [
            "GCN loss on unlabled data: 1.3283149003982544\n",
            "GCN acc on unlabled data: 0.6647196261682243\n",
            "attack loss: 0.681004524230957\n"
          ]
        },
        {
          "metadata": {
            "tags": null
          },
          "name": "stderr",
          "output_type": "stream",
          "text": [
            "\rPerturbing graph:  76%|███████▋  | 161/211 [50:39<15:08, 18.18s/it]"
          ]
        },
        {
          "metadata": {
            "tags": null
          },
          "name": "stdout",
          "output_type": "stream",
          "text": [
            "GCN loss on unlabled data: 1.2584562301635742\n",
            "GCN acc on unlabled data: 0.6732866043613707\n",
            "attack loss: 0.6297038793563843\n"
          ]
        },
        {
          "metadata": {
            "tags": null
          },
          "name": "stderr",
          "output_type": "stream",
          "text": [
            "\rPerturbing graph:  77%|███████▋  | 162/211 [50:59<15:05, 18.48s/it]"
          ]
        },
        {
          "metadata": {
            "tags": null
          },
          "name": "stdout",
          "output_type": "stream",
          "text": [
            "GCN loss on unlabled data: 1.2304030656814575\n",
            "GCN acc on unlabled data: 0.6662772585669782\n",
            "attack loss: 0.66636723279953\n"
          ]
        },
        {
          "metadata": {
            "tags": null
          },
          "name": "stderr",
          "output_type": "stream",
          "text": [
            "\rPerturbing graph:  77%|███████▋  | 163/211 [51:16<14:35, 18.25s/it]"
          ]
        },
        {
          "metadata": {
            "tags": null
          },
          "name": "stdout",
          "output_type": "stream",
          "text": [
            "GCN loss on unlabled data: 1.3905402421951294\n",
            "GCN acc on unlabled data: 0.6518691588785047\n",
            "attack loss: 0.7298150062561035\n"
          ]
        },
        {
          "metadata": {
            "tags": null
          },
          "name": "stderr",
          "output_type": "stream",
          "text": [
            "\rPerturbing graph:  78%|███████▊  | 164/211 [51:34<14:07, 18.03s/it]"
          ]
        },
        {
          "metadata": {
            "tags": null
          },
          "name": "stdout",
          "output_type": "stream",
          "text": [
            "GCN loss on unlabled data: 1.3076128959655762\n",
            "GCN acc on unlabled data: 0.660436137071651\n",
            "attack loss: 0.6553184390068054\n"
          ]
        },
        {
          "metadata": {
            "tags": null
          },
          "name": "stderr",
          "output_type": "stream",
          "text": [
            "\rPerturbing graph:  78%|███████▊  | 165/211 [51:53<13:58, 18.23s/it]"
          ]
        },
        {
          "metadata": {
            "tags": null
          },
          "name": "stdout",
          "output_type": "stream",
          "text": [
            "GCN loss on unlabled data: 1.2921514511108398\n",
            "GCN acc on unlabled data: 0.6596573208722741\n",
            "attack loss: 0.6766998171806335\n"
          ]
        },
        {
          "metadata": {
            "tags": null
          },
          "name": "stderr",
          "output_type": "stream",
          "text": [
            "\rPerturbing graph:  79%|███████▊  | 166/211 [52:10<13:36, 18.15s/it]"
          ]
        },
        {
          "metadata": {
            "tags": null
          },
          "name": "stdout",
          "output_type": "stream",
          "text": [
            "GCN loss on unlabled data: 1.3367154598236084\n",
            "GCN acc on unlabled data: 0.6658878504672897\n",
            "attack loss: 0.6950411796569824\n"
          ]
        },
        {
          "metadata": {
            "tags": null
          },
          "name": "stderr",
          "output_type": "stream",
          "text": [
            "\rPerturbing graph:  79%|███████▉  | 167/211 [52:29<13:29, 18.39s/it]"
          ]
        },
        {
          "metadata": {
            "tags": null
          },
          "name": "stdout",
          "output_type": "stream",
          "text": [
            "GCN loss on unlabled data: 1.2774498462677002\n",
            "GCN acc on unlabled data: 0.6701713395638629\n",
            "attack loss: 0.6512971520423889\n"
          ]
        },
        {
          "metadata": {
            "tags": null
          },
          "name": "stderr",
          "output_type": "stream",
          "text": [
            "\rPerturbing graph:  80%|███████▉  | 168/211 [52:48<13:10, 18.37s/it]"
          ]
        },
        {
          "metadata": {
            "tags": null
          },
          "name": "stdout",
          "output_type": "stream",
          "text": [
            "GCN loss on unlabled data: 1.1846325397491455\n",
            "GCN acc on unlabled data: 0.6950934579439252\n",
            "attack loss: 0.6102129817008972\n"
          ]
        },
        {
          "metadata": {
            "tags": null
          },
          "name": "stderr",
          "output_type": "stream",
          "text": [
            "\rPerturbing graph:  80%|████████  | 169/211 [53:07<13:03, 18.65s/it]"
          ]
        },
        {
          "metadata": {
            "tags": null
          },
          "name": "stdout",
          "output_type": "stream",
          "text": [
            "GCN loss on unlabled data: 1.374093770980835\n",
            "GCN acc on unlabled data: 0.6748442367601246\n",
            "attack loss: 0.7335312366485596\n"
          ]
        },
        {
          "metadata": {
            "tags": null
          },
          "name": "stderr",
          "output_type": "stream",
          "text": [
            "\rPerturbing graph:  81%|████████  | 170/211 [53:26<12:45, 18.67s/it]"
          ]
        },
        {
          "metadata": {
            "tags": null
          },
          "name": "stdout",
          "output_type": "stream",
          "text": [
            "GCN loss on unlabled data: 1.3809469938278198\n",
            "GCN acc on unlabled data: 0.655373831775701\n",
            "attack loss: 0.7337000966072083\n"
          ]
        },
        {
          "metadata": {
            "tags": null
          },
          "name": "stderr",
          "output_type": "stream",
          "text": [
            "\rPerturbing graph:  81%|████████  | 171/211 [53:44<12:16, 18.40s/it]"
          ]
        },
        {
          "metadata": {
            "tags": null
          },
          "name": "stdout",
          "output_type": "stream",
          "text": [
            "GCN loss on unlabled data: 1.3185806274414062\n",
            "GCN acc on unlabled data: 0.6565420560747663\n",
            "attack loss: 0.689216136932373\n"
          ]
        },
        {
          "metadata": {
            "tags": null
          },
          "name": "stderr",
          "output_type": "stream",
          "text": [
            "\rPerturbing graph:  82%|████████▏ | 172/211 [54:03<12:13, 18.81s/it]"
          ]
        },
        {
          "metadata": {
            "tags": null
          },
          "name": "stdout",
          "output_type": "stream",
          "text": [
            "GCN loss on unlabled data: 1.4051722288131714\n",
            "GCN acc on unlabled data: 0.660436137071651\n",
            "attack loss: 0.7367227077484131\n"
          ]
        },
        {
          "metadata": {
            "tags": null
          },
          "name": "stderr",
          "output_type": "stream",
          "text": [
            "\rPerturbing graph:  82%|████████▏ | 173/211 [54:22<11:52, 18.76s/it]"
          ]
        },
        {
          "metadata": {
            "tags": null
          },
          "name": "stdout",
          "output_type": "stream",
          "text": [
            "GCN loss on unlabled data: 1.3536596298217773\n",
            "GCN acc on unlabled data: 0.660436137071651\n",
            "attack loss: 0.7034184336662292\n"
          ]
        },
        {
          "metadata": {
            "tags": null
          },
          "name": "stderr",
          "output_type": "stream",
          "text": [
            "\rPerturbing graph:  82%|████████▏ | 174/211 [54:40<11:30, 18.67s/it]"
          ]
        },
        {
          "metadata": {
            "tags": null
          },
          "name": "stdout",
          "output_type": "stream",
          "text": [
            "GCN loss on unlabled data: 1.2750627994537354\n",
            "GCN acc on unlabled data: 0.6608255451713395\n",
            "attack loss: 0.6613302230834961\n"
          ]
        },
        {
          "metadata": {
            "tags": null
          },
          "name": "stderr",
          "output_type": "stream",
          "text": [
            "\rPerturbing graph:  83%|████████▎ | 175/211 [54:58<11:00, 18.34s/it]"
          ]
        },
        {
          "metadata": {
            "tags": null
          },
          "name": "stdout",
          "output_type": "stream",
          "text": [
            "GCN loss on unlabled data: 1.2989060878753662\n",
            "GCN acc on unlabled data: 0.6678348909657321\n",
            "attack loss: 0.6620561480522156\n"
          ]
        },
        {
          "metadata": {
            "tags": null
          },
          "name": "stderr",
          "output_type": "stream",
          "text": [
            "\rPerturbing graph:  83%|████████▎ | 176/211 [55:16<10:41, 18.33s/it]"
          ]
        },
        {
          "metadata": {
            "tags": null
          },
          "name": "stdout",
          "output_type": "stream",
          "text": [
            "GCN loss on unlabled data: 1.341151237487793\n",
            "GCN acc on unlabled data: 0.6783489096573209\n",
            "attack loss: 0.694560170173645\n"
          ]
        },
        {
          "metadata": {
            "tags": null
          },
          "name": "stderr",
          "output_type": "stream",
          "text": [
            "\rPerturbing graph:  84%|████████▍ | 177/211 [55:34<10:14, 18.08s/it]"
          ]
        },
        {
          "metadata": {
            "tags": null
          },
          "name": "stdout",
          "output_type": "stream",
          "text": [
            "GCN loss on unlabled data: 1.3616687059402466\n",
            "GCN acc on unlabled data: 0.6600467289719626\n",
            "attack loss: 0.7073569893836975\n"
          ]
        },
        {
          "output_type": "stream",
          "name": "stderr",
          "text": [
            "\rPerturbing graph:  84%|████████▍ | 178/211 [55:53<10:08, 18.43s/it]"
          ]
        },
        {
          "output_type": "stream",
          "name": "stdout",
          "text": [
            "GCN loss on unlabled data: 1.2297155857086182\n",
            "GCN acc on unlabled data: 0.676791277258567\n",
            "attack loss: 0.6419505476951599\n"
          ]
        }
      ]
    }
  ]
}